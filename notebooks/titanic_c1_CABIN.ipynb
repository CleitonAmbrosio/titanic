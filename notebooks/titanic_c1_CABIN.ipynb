{
 "cells": [
  {
   "cell_type": "markdown",
   "id": "1784d89f",
   "metadata": {
    "heading_collapsed": true
   },
   "source": [
    "# 0 - PLANNING"
   ]
  },
  {
   "cell_type": "markdown",
   "id": "3e03eb70",
   "metadata": {
    "hidden": true
   },
   "source": [
    "- Objective: model with upgraded performance w.r.t. 0th cycle's<br><br>\n",
    "\n",
    "- Cover at least some of the steps left aside in the 0th cycle (in the order of most probable quick wins; performance should be re-evaluated after each step)\n",
    "    - Rescue dropped features (CABIN)\n",
    "    - Balance target feature\n",
    "    - FEATURE ENGINEERING\n",
    "    - DATA PREPARATION (modify scaling/encoding?)\n",
    "    - FEATURE SELECTION<br><br>\n",
    "    \n",
    "    - EDA → might not bring direct performance upgrade, but it could be indirectly provided by insights over the given data (which, if not, would still have their own value!)"
   ]
  },
  {
   "cell_type": "markdown",
   "id": "eda489de",
   "metadata": {
    "heading_collapsed": true
   },
   "source": [
    "# 1 - SETUP"
   ]
  },
  {
   "cell_type": "code",
   "execution_count": 1,
   "id": "567f6747",
   "metadata": {
    "ExecuteTime": {
     "end_time": "2023-03-13T16:33:41.153810Z",
     "start_time": "2023-03-13T16:33:18.379563Z"
    },
    "hidden": true
   },
   "outputs": [],
   "source": [
    "import random\n",
    "import re\n",
    "from IPython.display import HTML\n",
    "\n",
    "import pandas as pd\n",
    "import numpy as np\n",
    "import matplotlib.pyplot as plt\n",
    "import seaborn as sns\n",
    "import pickle\n",
    "from scipy.stats import mode\n",
    "from sklearn.preprocessing import RobustScaler, MinMaxScaler\n",
    "from sklearn.pipeline import Pipeline\n",
    "from sklearn.model_selection import GridSearchCV, RandomizedSearchCV\n",
    "from sklearn.naive_bayes import GaussianNB\n",
    "from sklearn.neighbors import KNeighborsClassifier\n",
    "from sklearn.linear_model import LogisticRegression, SGDClassifier\n",
    "from sklearn.ensemble import GradientBoostingClassifier\n",
    "from sklearn.metrics import accuracy_score\n",
    "from sklearn.preprocessing import LabelEncoder\n",
    "from category_encoders import HashingEncoder"
   ]
  },
  {
   "cell_type": "code",
   "execution_count": 2,
   "id": "427ed31b",
   "metadata": {
    "ExecuteTime": {
     "end_time": "2023-03-13T16:33:41.184723Z",
     "start_time": "2023-03-13T16:33:41.156526Z"
    },
    "hidden": true
   },
   "outputs": [
    {
     "data": {
      "text/html": [
       "<style>.container{width:95% !important;}</style>"
      ],
      "text/plain": [
       "<IPython.core.display.HTML object>"
      ]
     },
     "metadata": {},
     "output_type": "display_data"
    }
   ],
   "source": [
    "%matplotlib inline\n",
    "\n",
    "def jupyter_settings():\n",
    "    \n",
    "    plt.style.use('ggplot')\n",
    "    plt.rcParams['figure.figsize'] = 20, 10\n",
    "    plt.rcParams['font.size'] = 24\n",
    "    sns.set()\n",
    "    \n",
    "    display(HTML('<style>.container{width:95% !important;}</style>'))\n",
    "    \n",
    "jupyter_settings()"
   ]
  },
  {
   "cell_type": "code",
   "execution_count": 3,
   "id": "41d855f4",
   "metadata": {
    "ExecuteTime": {
     "end_time": "2023-03-13T16:33:41.309443Z",
     "start_time": "2023-03-13T16:33:41.188459Z"
    },
    "hidden": true
   },
   "outputs": [],
   "source": [
    "df = pd.read_csv('../data/train.csv')"
   ]
  },
  {
   "cell_type": "code",
   "execution_count": 4,
   "id": "8062393d",
   "metadata": {
    "ExecuteTime": {
     "end_time": "2023-03-13T16:33:41.449736Z",
     "start_time": "2023-03-13T16:33:41.312395Z"
    },
    "hidden": true
   },
   "outputs": [
    {
     "data": {
      "text/html": [
       "<div>\n",
       "<style scoped>\n",
       "    .dataframe tbody tr th:only-of-type {\n",
       "        vertical-align: middle;\n",
       "    }\n",
       "\n",
       "    .dataframe tbody tr th {\n",
       "        vertical-align: top;\n",
       "    }\n",
       "\n",
       "    .dataframe thead th {\n",
       "        text-align: right;\n",
       "    }\n",
       "</style>\n",
       "<table border=\"1\" class=\"dataframe\">\n",
       "  <thead>\n",
       "    <tr style=\"text-align: right;\">\n",
       "      <th></th>\n",
       "      <th>PassengerId</th>\n",
       "      <th>Survived</th>\n",
       "      <th>Pclass</th>\n",
       "      <th>Name</th>\n",
       "      <th>Sex</th>\n",
       "      <th>Age</th>\n",
       "      <th>SibSp</th>\n",
       "      <th>Parch</th>\n",
       "      <th>Ticket</th>\n",
       "      <th>Fare</th>\n",
       "      <th>Cabin</th>\n",
       "      <th>Embarked</th>\n",
       "    </tr>\n",
       "  </thead>\n",
       "  <tbody>\n",
       "    <tr>\n",
       "      <th>663</th>\n",
       "      <td>664</td>\n",
       "      <td>0</td>\n",
       "      <td>3</td>\n",
       "      <td>Coleff, Mr. Peju</td>\n",
       "      <td>male</td>\n",
       "      <td>36.0</td>\n",
       "      <td>0</td>\n",
       "      <td>0</td>\n",
       "      <td>349210</td>\n",
       "      <td>7.4958</td>\n",
       "      <td>NaN</td>\n",
       "      <td>S</td>\n",
       "    </tr>\n",
       "    <tr>\n",
       "      <th>632</th>\n",
       "      <td>633</td>\n",
       "      <td>1</td>\n",
       "      <td>1</td>\n",
       "      <td>Stahelin-Maeglin, Dr. Max</td>\n",
       "      <td>male</td>\n",
       "      <td>32.0</td>\n",
       "      <td>0</td>\n",
       "      <td>0</td>\n",
       "      <td>13214</td>\n",
       "      <td>30.5000</td>\n",
       "      <td>B50</td>\n",
       "      <td>C</td>\n",
       "    </tr>\n",
       "    <tr>\n",
       "      <th>714</th>\n",
       "      <td>715</td>\n",
       "      <td>0</td>\n",
       "      <td>2</td>\n",
       "      <td>Greenberg, Mr. Samuel</td>\n",
       "      <td>male</td>\n",
       "      <td>52.0</td>\n",
       "      <td>0</td>\n",
       "      <td>0</td>\n",
       "      <td>250647</td>\n",
       "      <td>13.0000</td>\n",
       "      <td>NaN</td>\n",
       "      <td>S</td>\n",
       "    </tr>\n",
       "    <tr>\n",
       "      <th>514</th>\n",
       "      <td>515</td>\n",
       "      <td>0</td>\n",
       "      <td>3</td>\n",
       "      <td>Coleff, Mr. Satio</td>\n",
       "      <td>male</td>\n",
       "      <td>24.0</td>\n",
       "      <td>0</td>\n",
       "      <td>0</td>\n",
       "      <td>349209</td>\n",
       "      <td>7.4958</td>\n",
       "      <td>NaN</td>\n",
       "      <td>S</td>\n",
       "    </tr>\n",
       "    <tr>\n",
       "      <th>94</th>\n",
       "      <td>95</td>\n",
       "      <td>0</td>\n",
       "      <td>3</td>\n",
       "      <td>Coxon, Mr. Daniel</td>\n",
       "      <td>male</td>\n",
       "      <td>59.0</td>\n",
       "      <td>0</td>\n",
       "      <td>0</td>\n",
       "      <td>364500</td>\n",
       "      <td>7.2500</td>\n",
       "      <td>NaN</td>\n",
       "      <td>S</td>\n",
       "    </tr>\n",
       "  </tbody>\n",
       "</table>\n",
       "</div>"
      ],
      "text/plain": [
       "     PassengerId  Survived  Pclass                       Name   Sex   Age  \\\n",
       "663          664         0       3           Coleff, Mr. Peju  male  36.0   \n",
       "632          633         1       1  Stahelin-Maeglin, Dr. Max  male  32.0   \n",
       "714          715         0       2      Greenberg, Mr. Samuel  male  52.0   \n",
       "514          515         0       3          Coleff, Mr. Satio  male  24.0   \n",
       "94            95         0       3          Coxon, Mr. Daniel  male  59.0   \n",
       "\n",
       "     SibSp  Parch  Ticket     Fare Cabin Embarked  \n",
       "663      0      0  349210   7.4958   NaN        S  \n",
       "632      0      0   13214  30.5000   B50        C  \n",
       "714      0      0  250647  13.0000   NaN        S  \n",
       "514      0      0  349209   7.4958   NaN        S  \n",
       "94       0      0  364500   7.2500   NaN        S  "
      ]
     },
     "execution_count": 4,
     "metadata": {},
     "output_type": "execute_result"
    }
   ],
   "source": [
    "df.sample(5)"
   ]
  },
  {
   "cell_type": "markdown",
   "id": "18b2fd9b",
   "metadata": {
    "heading_collapsed": true
   },
   "source": [
    "# 2 - DATA DESCRIPTION"
   ]
  },
  {
   "cell_type": "code",
   "execution_count": 5,
   "id": "67229b56",
   "metadata": {
    "ExecuteTime": {
     "end_time": "2023-03-13T16:33:41.465693Z",
     "start_time": "2023-03-13T16:33:41.451730Z"
    },
    "hidden": true
   },
   "outputs": [],
   "source": [
    "df2 = df.copy() "
   ]
  },
  {
   "cell_type": "code",
   "execution_count": 6,
   "id": "e0af9e41",
   "metadata": {
    "ExecuteTime": {
     "end_time": "2023-03-13T16:33:41.480654Z",
     "start_time": "2023-03-13T16:33:41.470681Z"
    },
    "hidden": true
   },
   "outputs": [],
   "source": [
    "# Renaming columns to make work easier\n",
    "df2.columns = [x.upper() for x in df2.columns]"
   ]
  },
  {
   "cell_type": "code",
   "execution_count": 7,
   "id": "4717de7f",
   "metadata": {
    "ExecuteTime": {
     "end_time": "2023-03-13T16:33:41.512597Z",
     "start_time": "2023-03-13T16:33:41.483645Z"
    },
    "hidden": true
   },
   "outputs": [
    {
     "name": "stdout",
     "output_type": "stream",
     "text": [
      "<class 'pandas.core.frame.DataFrame'>\n",
      "RangeIndex: 891 entries, 0 to 890\n",
      "Data columns (total 12 columns):\n",
      " #   Column       Non-Null Count  Dtype  \n",
      "---  ------       --------------  -----  \n",
      " 0   PASSENGERID  891 non-null    int64  \n",
      " 1   SURVIVED     891 non-null    int64  \n",
      " 2   PCLASS       891 non-null    int64  \n",
      " 3   NAME         891 non-null    object \n",
      " 4   SEX          891 non-null    object \n",
      " 5   AGE          714 non-null    float64\n",
      " 6   SIBSP        891 non-null    int64  \n",
      " 7   PARCH        891 non-null    int64  \n",
      " 8   TICKET       891 non-null    object \n",
      " 9   FARE         891 non-null    float64\n",
      " 10  CABIN        204 non-null    object \n",
      " 11  EMBARKED     889 non-null    object \n",
      "dtypes: float64(2), int64(5), object(5)\n",
      "memory usage: 83.7+ KB\n"
     ]
    }
   ],
   "source": [
    "df2.info()"
   ]
  },
  {
   "cell_type": "code",
   "execution_count": 8,
   "id": "4357df82",
   "metadata": {
    "ExecuteTime": {
     "end_time": "2023-03-13T16:33:41.527343Z",
     "start_time": "2023-03-13T16:33:41.515366Z"
    },
    "cell_style": "center",
    "hidden": true
   },
   "outputs": [
    {
     "data": {
      "text/plain": [
       "891"
      ]
     },
     "execution_count": 8,
     "metadata": {},
     "output_type": "execute_result"
    }
   ],
   "source": [
    "# Passenger ID is a primary key, fortunatelly\n",
    "len(df2['PASSENGERID'].unique())"
   ]
  },
  {
   "cell_type": "markdown",
   "id": "01f1198c",
   "metadata": {
    "cell_style": "center",
    "hidden": true
   },
   "source": [
    "- Quite small dataset, shouldn't pose time performance problems; however, eventual dropouts could have significant impact over model performance<br><br>\n",
    "\n",
    "- NAs on CABIN, AGE and EMBARKED, with effect size on decreasing order\n",
    "    - CABIN feature might have significant impact over model performance (heuristically speaking); should be properly filled\n",
    "    - Same goes for AGE, but it should be easier to fill than CABIN\n",
    "    - EMBARKED has only 2 NAs, could be dropped or filled with almost no worries<br><br>\n",
    "\n",
    "- Data types seemingly ok, except possibly for TICKET (shall be explored below)"
   ]
  },
  {
   "cell_type": "code",
   "execution_count": 9,
   "id": "c4e96d4d",
   "metadata": {
    "ExecuteTime": {
     "end_time": "2023-03-13T16:33:41.558278Z",
     "start_time": "2023-03-13T16:33:41.531325Z"
    },
    "cell_style": "center",
    "hidden": true
   },
   "outputs": [
    {
     "data": {
      "text/plain": [
       "\"74.19% are indeed integers. Sample of remaining ones: ['STON/O 2. 3101269', 'A/5. 3337', 'SC/PARIS 2146', 'F.C.C. 13528', 'SO/C 14885']\""
      ]
     },
     "execution_count": 9,
     "metadata": {},
     "output_type": "execute_result"
    }
   ],
   "source": [
    "int_count = 0\n",
    "str_acc = []\n",
    "for x in df2['TICKET']:\n",
    "    try:\n",
    "        int(x)\n",
    "        int_count += 1\n",
    "    except:\n",
    "        str_acc.append(x)\n",
    "\n",
    "f'{int_count / df2.shape[0] * 100:.2f}% are indeed integers. Sample of remaining ones: {random.sample(str_acc, 5)}'"
   ]
  },
  {
   "cell_type": "markdown",
   "id": "5ecc7b31",
   "metadata": {
    "hidden": true
   },
   "source": [
    "- Non-integer (str) part apparently has some meaning. Let's try to keep only the numeric part and see if it inserts duplicates on the dataset.<br>\n",
    "If not, we will follow this way."
   ]
  },
  {
   "cell_type": "markdown",
   "id": "8e259b7b",
   "metadata": {
    "heading_collapsed": true,
    "hidden": true
   },
   "source": [
    "## 2.0 - Data cleaning"
   ]
  },
  {
   "cell_type": "code",
   "execution_count": 10,
   "id": "0386b72e",
   "metadata": {
    "ExecuteTime": {
     "end_time": "2023-03-13T16:33:41.574209Z",
     "start_time": "2023-03-13T16:33:41.561243Z"
    },
    "cell_style": "center",
    "hidden": true
   },
   "outputs": [
    {
     "data": {
      "text/plain": [
       "'681 are unique, that is 76.43%'"
      ]
     },
     "execution_count": 10,
     "metadata": {},
     "output_type": "execute_result"
    }
   ],
   "source": [
    "# For now, there are some duplicate tickets already\n",
    "f\"{len(df2['TICKET'].unique())} are unique, that is {len(df2['TICKET'].unique()) / df2.shape[0] * 100:.2f}%\""
   ]
  },
  {
   "cell_type": "code",
   "execution_count": 11,
   "id": "975a2909",
   "metadata": {
    "ExecuteTime": {
     "end_time": "2023-03-13T16:33:41.670083Z",
     "start_time": "2023-03-13T16:33:41.576204Z"
    },
    "cell_style": "center",
    "hidden": true
   },
   "outputs": [
    {
     "data": {
      "text/plain": [
       "344"
      ]
     },
     "execution_count": 11,
     "metadata": {},
     "output_type": "execute_result"
    }
   ],
   "source": [
    "# Number of tickets that appear more than once\n",
    "len([x for x in df2['TICKET'] if list(df2['TICKET']).count(x) > 1])"
   ]
  },
  {
   "cell_type": "code",
   "execution_count": 12,
   "id": "e6a4de12",
   "metadata": {
    "ExecuteTime": {
     "end_time": "2023-03-13T16:33:41.687014Z",
     "start_time": "2023-03-13T16:33:41.674047Z"
    },
    "hidden": true
   },
   "outputs": [
    {
     "data": {
      "text/html": [
       "<div>\n",
       "<style scoped>\n",
       "    .dataframe tbody tr th:only-of-type {\n",
       "        vertical-align: middle;\n",
       "    }\n",
       "\n",
       "    .dataframe tbody tr th {\n",
       "        vertical-align: top;\n",
       "    }\n",
       "\n",
       "    .dataframe thead th {\n",
       "        text-align: right;\n",
       "    }\n",
       "</style>\n",
       "<table border=\"1\" class=\"dataframe\">\n",
       "  <thead>\n",
       "    <tr style=\"text-align: right;\">\n",
       "      <th></th>\n",
       "      <th>PASSENGERID</th>\n",
       "      <th>SURVIVED</th>\n",
       "      <th>PCLASS</th>\n",
       "      <th>NAME</th>\n",
       "      <th>SEX</th>\n",
       "      <th>AGE</th>\n",
       "      <th>SIBSP</th>\n",
       "      <th>PARCH</th>\n",
       "      <th>TICKET</th>\n",
       "      <th>FARE</th>\n",
       "      <th>CABIN</th>\n",
       "      <th>EMBARKED</th>\n",
       "    </tr>\n",
       "  </thead>\n",
       "  <tbody>\n",
       "  </tbody>\n",
       "</table>\n",
       "</div>"
      ],
      "text/plain": [
       "Empty DataFrame\n",
       "Columns: [PASSENGERID, SURVIVED, PCLASS, NAME, SEX, AGE, SIBSP, PARCH, TICKET, FARE, CABIN, EMBARKED]\n",
       "Index: []"
      ]
     },
     "execution_count": 12,
     "metadata": {},
     "output_type": "execute_result"
    }
   ],
   "source": [
    "# Dummy value still not used. Shall be used below to fill edge cases\n",
    "df2[df2['TICKET'] == '0']"
   ]
  },
  {
   "cell_type": "code",
   "execution_count": 13,
   "id": "02422040",
   "metadata": {
    "ExecuteTime": {
     "end_time": "2023-03-13T16:33:41.717170Z",
     "start_time": "2023-03-13T16:33:41.694991Z"
    },
    "hidden": true
   },
   "outputs": [],
   "source": [
    "new_col = []\n",
    "outliers = []\n",
    "for x in df2['TICKET']:\n",
    "    try:\n",
    "        new_col.append(int(x))  # Cast regular cases\n",
    "    except:\n",
    "        if match := re.findall('\\d+', x):  # Gets only numeric part    \n",
    "            new_col.append(int(match[0]))\n",
    "        else:  # Edge cases\n",
    "            outliers.append(x)\n",
    "            new_col.append(0)"
   ]
  },
  {
   "cell_type": "code",
   "execution_count": 14,
   "id": "d0f061b8",
   "metadata": {
    "ExecuteTime": {
     "end_time": "2023-03-13T16:33:41.732484Z",
     "start_time": "2023-03-13T16:33:41.720168Z"
    },
    "cell_style": "center",
    "hidden": true
   },
   "outputs": [
    {
     "data": {
      "text/plain": [
       "['LINE', 'LINE', 'LINE', 'LINE']"
      ]
     },
     "execution_count": 14,
     "metadata": {},
     "output_type": "execute_result"
    }
   ],
   "source": [
    "# Could be people that didn't buy a ticket, but else awaited in line\n",
    "outliers"
   ]
  },
  {
   "cell_type": "code",
   "execution_count": 15,
   "id": "662c592b",
   "metadata": {
    "ExecuteTime": {
     "end_time": "2023-03-13T16:33:41.748074Z",
     "start_time": "2023-03-13T16:33:41.734459Z"
    },
    "cell_style": "center",
    "hidden": true
   },
   "outputs": [
    {
     "data": {
      "text/plain": [
       "636"
      ]
     },
     "execution_count": 15,
     "metadata": {},
     "output_type": "execute_result"
    }
   ],
   "source": [
    "# It seems some duplicates were inserted, more precisely 45, that is, a ~3% decrease to 71.5%\n",
    "len(set(new_col))"
   ]
  },
  {
   "cell_type": "code",
   "execution_count": 16,
   "id": "aa79b14b",
   "metadata": {
    "ExecuteTime": {
     "end_time": "2023-03-13T16:33:41.763121Z",
     "start_time": "2023-03-13T16:33:41.750073Z"
    },
    "hidden": true
   },
   "outputs": [],
   "source": [
    "# Finally, substitute original values\n",
    "df2['TICKET'] = new_col"
   ]
  },
  {
   "cell_type": "markdown",
   "id": "938e816d",
   "metadata": {
    "heading_collapsed": true,
    "hidden": true
   },
   "source": [
    "## 2.1 - Casting"
   ]
  },
  {
   "cell_type": "code",
   "execution_count": 17,
   "id": "9ab85957",
   "metadata": {
    "ExecuteTime": {
     "end_time": "2023-03-13T16:33:41.779085Z",
     "start_time": "2023-03-13T16:33:41.765128Z"
    },
    "hidden": true
   },
   "outputs": [
    {
     "data": {
      "text/plain": [
       "PASSENGERID      int64\n",
       "SURVIVED         int64\n",
       "PCLASS           int64\n",
       "NAME            object\n",
       "SEX             object\n",
       "AGE            float64\n",
       "SIBSP            int64\n",
       "PARCH            int64\n",
       "TICKET           int64\n",
       "FARE           float64\n",
       "CABIN           object\n",
       "EMBARKED        object\n",
       "dtype: object"
      ]
     },
     "execution_count": 17,
     "metadata": {},
     "output_type": "execute_result"
    }
   ],
   "source": [
    "# TICKET was \"naturally\" cast by the procedure in the last section\n",
    "df2.dtypes"
   ]
  },
  {
   "cell_type": "markdown",
   "id": "a3cb0506",
   "metadata": {
    "heading_collapsed": true,
    "hidden": true
   },
   "source": [
    "## 2.2 - Dealing with NAs"
   ]
  },
  {
   "cell_type": "markdown",
   "id": "b914bbe6",
   "metadata": {
    "hidden": true
   },
   "source": [
    "Besides the rules of the 0th cycle, we will try to fill `CABIN` this time\n",
    "\n",
    "Our approach for that will be to randomly sample from the known values\n",
    "\n",
    "A more intricate approach would be to employ a ML model to predict the missing labels"
   ]
  },
  {
   "cell_type": "code",
   "execution_count": 44,
   "id": "757f6a65",
   "metadata": {
    "ExecuteTime": {
     "end_time": "2023-03-13T16:45:56.845183Z",
     "start_time": "2023-03-13T16:45:56.826197Z"
    },
    "hidden": true
   },
   "outputs": [],
   "source": [
    "# 0th cycle approach\n",
    "# df2 = df2.loc[:, ~df2.columns.isin(['CABIN'])]\n",
    "\n",
    "# 1st cycle approach\n",
    "known_cabins = df2.loc[~df2['CABIN'].isna(), 'CABIN'].values.tolist()\n",
    "na_count = df2.loc[df2['CABIN'].isna(), 'CABIN'].shape[0]\n",
    "# List-comprehension instead of plugging `na_count` as random.sample()'s 2nd arg allows for repetition\n",
    "new_cabins = [random.sample(known_cabins, 1)[0] for _ in range(na_count)]\n",
    "\n",
    "# Finally, filling them in\n",
    "df2.loc[df2['CABIN'].isna(), 'CABIN'] = new_cabins"
   ]
  },
  {
   "cell_type": "code",
   "execution_count": 46,
   "id": "2c0d2cc9",
   "metadata": {
    "ExecuteTime": {
     "end_time": "2023-03-13T16:47:16.777502Z",
     "start_time": "2023-03-13T16:47:16.769485Z"
    },
    "hidden": true
   },
   "outputs": [],
   "source": [
    "df2['AGE'].fillna(round(df2['AGE'].mean()), inplace=True)"
   ]
  },
  {
   "cell_type": "code",
   "execution_count": 47,
   "id": "2e426dd6",
   "metadata": {
    "ExecuteTime": {
     "end_time": "2023-03-13T16:47:17.123206Z",
     "start_time": "2023-03-13T16:47:17.116184Z"
    },
    "hidden": true
   },
   "outputs": [],
   "source": [
    "df2['EMBARKED'].fillna(mode(df2['EMBARKED'])[0][0], inplace=True)"
   ]
  },
  {
   "cell_type": "code",
   "execution_count": 48,
   "id": "68395d79",
   "metadata": {
    "ExecuteTime": {
     "end_time": "2023-03-13T16:47:17.688857Z",
     "start_time": "2023-03-13T16:47:17.670914Z"
    },
    "hidden": true
   },
   "outputs": [
    {
     "name": "stdout",
     "output_type": "stream",
     "text": [
      "<class 'pandas.core.frame.DataFrame'>\n",
      "RangeIndex: 891 entries, 0 to 890\n",
      "Data columns (total 12 columns):\n",
      " #   Column       Non-Null Count  Dtype  \n",
      "---  ------       --------------  -----  \n",
      " 0   PASSENGERID  891 non-null    int64  \n",
      " 1   SURVIVED     891 non-null    int64  \n",
      " 2   PCLASS       891 non-null    int64  \n",
      " 3   NAME         891 non-null    object \n",
      " 4   SEX          891 non-null    object \n",
      " 5   AGE          891 non-null    float64\n",
      " 6   SIBSP        891 non-null    int64  \n",
      " 7   PARCH        891 non-null    int64  \n",
      " 8   TICKET       891 non-null    int64  \n",
      " 9   FARE         891 non-null    float64\n",
      " 10  CABIN        891 non-null    object \n",
      " 11  EMBARKED     891 non-null    object \n",
      "dtypes: float64(2), int64(6), object(4)\n",
      "memory usage: 83.7+ KB\n"
     ]
    }
   ],
   "source": [
    "df2.info()"
   ]
  },
  {
   "cell_type": "markdown",
   "id": "f78085ea",
   "metadata": {
    "heading_collapsed": true,
    "hidden": true
   },
   "source": [
    "## 2.3 - \"A priori\" statistics"
   ]
  },
  {
   "cell_type": "code",
   "execution_count": 49,
   "id": "ef795f4d",
   "metadata": {
    "ExecuteTime": {
     "end_time": "2023-03-13T16:47:21.680535Z",
     "start_time": "2023-03-13T16:47:21.532253Z"
    },
    "cell_style": "center",
    "hidden": true
   },
   "outputs": [
    {
     "data": {
      "text/html": [
       "<div>\n",
       "<style scoped>\n",
       "    .dataframe tbody tr th:only-of-type {\n",
       "        vertical-align: middle;\n",
       "    }\n",
       "\n",
       "    .dataframe tbody tr th {\n",
       "        vertical-align: top;\n",
       "    }\n",
       "\n",
       "    .dataframe thead th {\n",
       "        text-align: right;\n",
       "    }\n",
       "</style>\n",
       "<table border=\"1\" class=\"dataframe\">\n",
       "  <thead>\n",
       "    <tr style=\"text-align: right;\">\n",
       "      <th></th>\n",
       "      <th>SURVIVED</th>\n",
       "      <th>PCLASS</th>\n",
       "      <th>AGE</th>\n",
       "      <th>SIBSP</th>\n",
       "      <th>PARCH</th>\n",
       "      <th>TICKET</th>\n",
       "      <th>FARE</th>\n",
       "    </tr>\n",
       "  </thead>\n",
       "  <tbody>\n",
       "    <tr>\n",
       "      <th>count</th>\n",
       "      <td>891.000000</td>\n",
       "      <td>891.000000</td>\n",
       "      <td>891.000000</td>\n",
       "      <td>891.000000</td>\n",
       "      <td>891.000000</td>\n",
       "      <td>8.910000e+02</td>\n",
       "      <td>891.000000</td>\n",
       "    </tr>\n",
       "    <tr>\n",
       "      <th>mean</th>\n",
       "      <td>0.383838</td>\n",
       "      <td>2.308642</td>\n",
       "      <td>29.758889</td>\n",
       "      <td>0.523008</td>\n",
       "      <td>0.381594</td>\n",
       "      <td>2.268235e+05</td>\n",
       "      <td>32.204208</td>\n",
       "    </tr>\n",
       "    <tr>\n",
       "      <th>std</th>\n",
       "      <td>0.486592</td>\n",
       "      <td>0.836071</td>\n",
       "      <td>13.002570</td>\n",
       "      <td>1.102743</td>\n",
       "      <td>0.806057</td>\n",
       "      <td>5.015518e+05</td>\n",
       "      <td>49.693429</td>\n",
       "    </tr>\n",
       "    <tr>\n",
       "      <th>min</th>\n",
       "      <td>0.000000</td>\n",
       "      <td>1.000000</td>\n",
       "      <td>0.420000</td>\n",
       "      <td>0.000000</td>\n",
       "      <td>0.000000</td>\n",
       "      <td>0.000000e+00</td>\n",
       "      <td>0.000000</td>\n",
       "    </tr>\n",
       "    <tr>\n",
       "      <th>25%</th>\n",
       "      <td>0.000000</td>\n",
       "      <td>2.000000</td>\n",
       "      <td>22.000000</td>\n",
       "      <td>0.000000</td>\n",
       "      <td>0.000000</td>\n",
       "      <td>1.176700e+04</td>\n",
       "      <td>7.910400</td>\n",
       "    </tr>\n",
       "    <tr>\n",
       "      <th>50%</th>\n",
       "      <td>0.000000</td>\n",
       "      <td>3.000000</td>\n",
       "      <td>30.000000</td>\n",
       "      <td>0.000000</td>\n",
       "      <td>0.000000</td>\n",
       "      <td>1.101520e+05</td>\n",
       "      <td>14.454200</td>\n",
       "    </tr>\n",
       "    <tr>\n",
       "      <th>75%</th>\n",
       "      <td>1.000000</td>\n",
       "      <td>3.000000</td>\n",
       "      <td>35.000000</td>\n",
       "      <td>1.000000</td>\n",
       "      <td>0.000000</td>\n",
       "      <td>3.470615e+05</td>\n",
       "      <td>31.000000</td>\n",
       "    </tr>\n",
       "    <tr>\n",
       "      <th>max</th>\n",
       "      <td>1.000000</td>\n",
       "      <td>3.000000</td>\n",
       "      <td>80.000000</td>\n",
       "      <td>8.000000</td>\n",
       "      <td>6.000000</td>\n",
       "      <td>3.101317e+06</td>\n",
       "      <td>512.329200</td>\n",
       "    </tr>\n",
       "  </tbody>\n",
       "</table>\n",
       "</div>"
      ],
      "text/plain": [
       "         SURVIVED      PCLASS         AGE       SIBSP       PARCH  \\\n",
       "count  891.000000  891.000000  891.000000  891.000000  891.000000   \n",
       "mean     0.383838    2.308642   29.758889    0.523008    0.381594   \n",
       "std      0.486592    0.836071   13.002570    1.102743    0.806057   \n",
       "min      0.000000    1.000000    0.420000    0.000000    0.000000   \n",
       "25%      0.000000    2.000000   22.000000    0.000000    0.000000   \n",
       "50%      0.000000    3.000000   30.000000    0.000000    0.000000   \n",
       "75%      1.000000    3.000000   35.000000    1.000000    0.000000   \n",
       "max      1.000000    3.000000   80.000000    8.000000    6.000000   \n",
       "\n",
       "             TICKET        FARE  \n",
       "count  8.910000e+02  891.000000  \n",
       "mean   2.268235e+05   32.204208  \n",
       "std    5.015518e+05   49.693429  \n",
       "min    0.000000e+00    0.000000  \n",
       "25%    1.176700e+04    7.910400  \n",
       "50%    1.101520e+05   14.454200  \n",
       "75%    3.470615e+05   31.000000  \n",
       "max    3.101317e+06  512.329200  "
      ]
     },
     "execution_count": 49,
     "metadata": {},
     "output_type": "execute_result"
    }
   ],
   "source": [
    "# PASSENGERID won't be a predictor variable\n",
    "# SURVIVED (target) is known to be binary, but let's consider it anyway\n",
    "df2.loc[:, df2.columns != 'PASSENGERID'].describe()"
   ]
  },
  {
   "cell_type": "markdown",
   "id": "e866b496",
   "metadata": {
    "cell_style": "center",
    "hidden": true
   },
   "source": [
    "- On 1st sight (aiming mainly at the min, max and quartiles), only PCLASS seems not to have any behavior indicating the presence of outliers\n",
    "    - TICKET, FARE and AGE might be the most affected\n",
    "    - SIBSP and PARCH only slightly"
   ]
  },
  {
   "cell_type": "code",
   "execution_count": 50,
   "id": "3890a659",
   "metadata": {
    "ExecuteTime": {
     "end_time": "2023-03-13T16:47:24.787025Z",
     "start_time": "2023-03-13T16:47:24.645942Z"
    },
    "cell_style": "center",
    "hidden": true
   },
   "outputs": [
    {
     "data": {
      "text/plain": [
       "0    0.616162\n",
       "1    0.383838\n",
       "Name: SURVIVED, dtype: float64"
      ]
     },
     "execution_count": 50,
     "metadata": {},
     "output_type": "execute_result"
    }
   ],
   "source": [
    "# Target slightly imbalanced\n",
    "# Point to be aware of in the DATA PREPARATION step\n",
    "df2['SURVIVED'].value_counts(normalize=True)"
   ]
  },
  {
   "cell_type": "code",
   "execution_count": 51,
   "id": "60c98697",
   "metadata": {
    "ExecuteTime": {
     "end_time": "2023-03-13T16:47:26.505728Z",
     "start_time": "2023-03-13T16:47:26.494745Z"
    },
    "hidden": true
   },
   "outputs": [
    {
     "data": {
      "text/plain": [
       "Index(['NAME', 'SEX', 'CABIN', 'EMBARKED'], dtype='object')"
      ]
     },
     "execution_count": 51,
     "metadata": {},
     "output_type": "execute_result"
    }
   ],
   "source": [
    "# As for the remaining (categorical) features\n",
    "cat = df2.select_dtypes(exclude=['int64','float64'])\n",
    "cat.columns"
   ]
  },
  {
   "cell_type": "code",
   "execution_count": 52,
   "id": "704f2649",
   "metadata": {
    "ExecuteTime": {
     "end_time": "2023-03-13T16:47:27.005670Z",
     "start_time": "2023-03-13T16:47:26.998689Z"
    },
    "cell_style": "center",
    "hidden": true
   },
   "outputs": [
    {
     "data": {
      "text/plain": [
       "male      577\n",
       "female    314\n",
       "Name: SEX, dtype: int64"
      ]
     },
     "execution_count": 52,
     "metadata": {},
     "output_type": "execute_result"
    }
   ],
   "source": [
    "cat['SEX'].value_counts()"
   ]
  },
  {
   "cell_type": "code",
   "execution_count": 53,
   "id": "e6e5bcbf",
   "metadata": {
    "ExecuteTime": {
     "end_time": "2023-03-13T16:47:28.661113Z",
     "start_time": "2023-03-13T16:47:28.650134Z"
    },
    "cell_style": "center",
    "hidden": true
   },
   "outputs": [
    {
     "data": {
      "text/plain": [
       "S    646\n",
       "C    168\n",
       "Q     77\n",
       "Name: EMBARKED, dtype: int64"
      ]
     },
     "execution_count": 53,
     "metadata": {},
     "output_type": "execute_result"
    }
   ],
   "source": [
    "cat['EMBARKED'].value_counts()"
   ]
  },
  {
   "cell_type": "code",
   "execution_count": 65,
   "id": "1e841ef9",
   "metadata": {
    "ExecuteTime": {
     "end_time": "2023-03-13T16:49:22.682743Z",
     "start_time": "2023-03-13T16:49:22.659804Z"
    },
    "cell_style": "center",
    "hidden": true
   },
   "outputs": [
    {
     "data": {
      "text/plain": [
       "G6             21\n",
       "C23 C25 C27    18\n",
       "E101           16\n",
       "B77            15\n",
       "B96 B98        14\n",
       "               ..\n",
       "C110            2\n",
       "D47             2\n",
       "B41             2\n",
       "E68             1\n",
       "D30             1\n",
       "Name: CABIN, Length: 147, dtype: int64"
      ]
     },
     "execution_count": 65,
     "metadata": {},
     "output_type": "execute_result"
    }
   ],
   "source": [
    "# Variable with several levels, must be encoded properly\n",
    "cat['CABIN'].value_counts()"
   ]
  },
  {
   "cell_type": "code",
   "execution_count": 56,
   "id": "7f2fec77",
   "metadata": {
    "ExecuteTime": {
     "end_time": "2023-03-13T16:48:18.952042Z",
     "start_time": "2023-03-13T16:48:18.568820Z"
    },
    "hidden": true
   },
   "outputs": [
    {
     "data": {
      "image/png": "[encoded data removed]",
      "text/plain": [
       "<Figure size 1440x576 with 2 Axes>"
      ]
     },
     "metadata": {},
     "output_type": "display_data"
    }
   ],
   "source": [
    "with plt.rc_context():\n",
    "    plt.rcParams['figure.figsize'] = 20, 8\n",
    "    \n",
    "    plt.subplot(1, 2, 1);\n",
    "    sns.barplot(x='SEX', y='SURVIVED', data=df2, ci=0);\n",
    "    plt.title('Target (SURVIVED) VS gender');\n",
    "\n",
    "    plt.subplot(1, 2, 2);\n",
    "    sns.barplot(x='EMBARKED', y='SURVIVED', data=df2, ci=0);\n",
    "    plt.title('Target (SURVIVED) VS port of embark')"
   ]
  },
  {
   "cell_type": "markdown",
   "id": "a3697d1f",
   "metadata": {
    "hidden": true
   },
   "source": [
    "- Female rate of survival is quite bigger (the premise \"women go first\" might have applied for the embark to the emergency boats)<br><br>\n",
    "\n",
    "- At least visually, the Cherbourg port seems to have a bigger rate of survival, which is curious, but I cannot figure out any reasonable explanation for the time being"
   ]
  },
  {
   "cell_type": "markdown",
   "id": "3a57a394",
   "metadata": {
    "heading_collapsed": true
   },
   "source": [
    "# 3 - FEATURE ENGINEERING"
   ]
  },
  {
   "cell_type": "markdown",
   "id": "dfab4753",
   "metadata": {
    "hidden": true
   },
   "source": [
    "For the time being (this 0th cycle), no new feature shall be devised"
   ]
  },
  {
   "cell_type": "code",
   "execution_count": 57,
   "id": "3b496a6e",
   "metadata": {
    "ExecuteTime": {
     "end_time": "2023-03-13T16:48:28.118683Z",
     "start_time": "2023-03-13T16:48:28.107203Z"
    },
    "hidden": true
   },
   "outputs": [],
   "source": [
    "df3 = df2.copy()"
   ]
  },
  {
   "cell_type": "markdown",
   "id": "cc493089",
   "metadata": {
    "heading_collapsed": true
   },
   "source": [
    "# 4 - DATA FILTERING"
   ]
  },
  {
   "cell_type": "code",
   "execution_count": 58,
   "id": "fd29863f",
   "metadata": {
    "ExecuteTime": {
     "end_time": "2023-03-13T16:48:31.508048Z",
     "start_time": "2023-03-13T16:48:31.504064Z"
    },
    "hidden": true
   },
   "outputs": [],
   "source": [
    "df4 = df3.copy()"
   ]
  },
  {
   "cell_type": "markdown",
   "id": "29c8af5b",
   "metadata": {
    "hidden": true
   },
   "source": [
    "NAME feature shouldn't bring much more information besides PASSENGERID, so it will be dropped "
   ]
  },
  {
   "cell_type": "code",
   "execution_count": 59,
   "id": "1553577e",
   "metadata": {
    "ExecuteTime": {
     "end_time": "2023-03-13T16:48:32.568438Z",
     "start_time": "2023-03-13T16:48:32.550487Z"
    },
    "hidden": true
   },
   "outputs": [],
   "source": [
    "df4 = df4.loc[:, ~df4.columns.isin(['NAME'])]"
   ]
  },
  {
   "cell_type": "markdown",
   "id": "e64fcb8c",
   "metadata": {
    "heading_collapsed": true
   },
   "source": [
    "# 5 - EDA"
   ]
  },
  {
   "cell_type": "code",
   "execution_count": 60,
   "id": "b2352652",
   "metadata": {
    "ExecuteTime": {
     "end_time": "2023-03-13T16:48:35.309817Z",
     "start_time": "2023-03-13T16:48:35.291827Z"
    },
    "hidden": true
   },
   "outputs": [],
   "source": [
    "df5 = df4.copy()"
   ]
  },
  {
   "cell_type": "markdown",
   "id": "cba6aab3",
   "metadata": {
    "hidden": true
   },
   "source": [
    "For the time being (this 0th cycle), no deep exploratory step shall be carried on (besides the uni and bivariate visualizations below).<br>\n",
    "The main objective for the moment is to have a first draft of a model."
   ]
  },
  {
   "cell_type": "markdown",
   "id": "dfd96a40",
   "metadata": {
    "heading_collapsed": true,
    "hidden": true
   },
   "source": [
    "## 5.0 - Univariate analysis"
   ]
  },
  {
   "cell_type": "markdown",
   "id": "df3f35aa",
   "metadata": {
    "hidden": true
   },
   "source": [
    "As suggested \"a priori\" at section 2.3:\n",
    "- Target variable is slightly imbalanced → shall be left untouched in this 0th cycle\n",
    "- TICKET, FARE and AGE are the most affected by outliers (in this order) → to be rescaled with RobustScaler\n",
    "- SIBSP and PARCH present some too, but in a more moderate range → to be rescaled with RobustScaler, only to be certain\n",
    "- PCLASS is well-behaved but not normal distributed → to be rescaled with MinMaxScaler"
   ]
  },
  {
   "cell_type": "code",
   "execution_count": 61,
   "id": "7dec5c12",
   "metadata": {
    "ExecuteTime": {
     "end_time": "2023-03-13T16:48:40.618556Z",
     "start_time": "2023-03-13T16:48:38.454134Z"
    },
    "cell_style": "center",
    "hidden": true
   },
   "outputs": [
    {
     "data": {
      "image/png": "[encoded data removed]",
      "text/plain": [
       "<Figure size 1440x720 with 9 Axes>"
      ]
     },
     "metadata": {},
     "output_type": "display_data"
    }
   ],
   "source": [
    "df5.hist(bins=25, xrot=-30);"
   ]
  },
  {
   "cell_type": "markdown",
   "id": "5fcc141d",
   "metadata": {
    "heading_collapsed": true,
    "hidden": true
   },
   "source": [
    "## 5.1 - Bivariate analysis"
   ]
  },
  {
   "cell_type": "markdown",
   "id": "7ec88770",
   "metadata": {
    "hidden": true
   },
   "source": [
    "A few conclusions from a fast visual analysis:\n",
    "- Target VS predictors\n",
    "    - High number of relatives onboard (high values of SIBSP and PARCH) seems to lead to lower chance of survival, which makes sense (one wouldn't want to abandon one's family, but to save everybody)\n",
    "    - Very rich people (high FARE) seems to have a higher chance of survival<br><br>\n",
    "    \n",
    "- Predictors among themselves (mainly correlations, over which no action will be taken in this 0th cycle)\n",
    "    - PCLASS and TICKET (or FARE) seems to have some correlation, which makes sense\n",
    "    - AGE and SIBSP seems to have some correlation, which also makes sense"
   ]
  },
  {
   "cell_type": "code",
   "execution_count": 62,
   "id": "07326346",
   "metadata": {
    "ExecuteTime": {
     "end_time": "2023-03-13T16:48:50.866038Z",
     "start_time": "2023-03-13T16:48:40.621549Z"
    },
    "hidden": true
   },
   "outputs": [
    {
     "data": {
      "image/png": "[encoded data removed]",
      "text/plain": [
       "<Figure size 1260x1260 with 56 Axes>"
      ]
     },
     "metadata": {},
     "output_type": "display_data"
    }
   ],
   "source": [
    "sns.pairplot(df5.loc[:, df5.columns != 'PASSENGERID']);"
   ]
  },
  {
   "cell_type": "markdown",
   "id": "5c748798",
   "metadata": {
    "heading_collapsed": true
   },
   "source": [
    "# 6 - DATA PREPARATION"
   ]
  },
  {
   "cell_type": "code",
   "execution_count": 105,
   "id": "cba47475",
   "metadata": {
    "ExecuteTime": {
     "end_time": "2023-03-13T18:22:07.779942Z",
     "start_time": "2023-03-13T18:22:07.770954Z"
    },
    "hidden": true
   },
   "outputs": [],
   "source": [
    "df6 = df5.copy()"
   ]
  },
  {
   "cell_type": "code",
   "execution_count": 106,
   "id": "9e285d7a",
   "metadata": {
    "ExecuteTime": {
     "end_time": "2023-03-13T18:22:08.498877Z",
     "start_time": "2023-03-13T18:22:08.451968Z"
    },
    "hidden": true
   },
   "outputs": [
    {
     "data": {
      "text/html": [
       "<div>\n",
       "<style scoped>\n",
       "    .dataframe tbody tr th:only-of-type {\n",
       "        vertical-align: middle;\n",
       "    }\n",
       "\n",
       "    .dataframe tbody tr th {\n",
       "        vertical-align: top;\n",
       "    }\n",
       "\n",
       "    .dataframe thead th {\n",
       "        text-align: right;\n",
       "    }\n",
       "</style>\n",
       "<table border=\"1\" class=\"dataframe\">\n",
       "  <thead>\n",
       "    <tr style=\"text-align: right;\">\n",
       "      <th></th>\n",
       "      <th>PASSENGERID</th>\n",
       "      <th>SURVIVED</th>\n",
       "      <th>PCLASS</th>\n",
       "      <th>AGE</th>\n",
       "      <th>SIBSP</th>\n",
       "      <th>PARCH</th>\n",
       "      <th>TICKET</th>\n",
       "      <th>FARE</th>\n",
       "    </tr>\n",
       "  </thead>\n",
       "  <tbody>\n",
       "    <tr>\n",
       "      <th>count</th>\n",
       "      <td>891.000000</td>\n",
       "      <td>891.000000</td>\n",
       "      <td>891.000000</td>\n",
       "      <td>891.000000</td>\n",
       "      <td>891.000000</td>\n",
       "      <td>891.000000</td>\n",
       "      <td>8.910000e+02</td>\n",
       "      <td>891.000000</td>\n",
       "    </tr>\n",
       "    <tr>\n",
       "      <th>mean</th>\n",
       "      <td>446.000000</td>\n",
       "      <td>0.383838</td>\n",
       "      <td>2.308642</td>\n",
       "      <td>29.758889</td>\n",
       "      <td>0.523008</td>\n",
       "      <td>0.381594</td>\n",
       "      <td>2.268235e+05</td>\n",
       "      <td>32.204208</td>\n",
       "    </tr>\n",
       "    <tr>\n",
       "      <th>std</th>\n",
       "      <td>257.353842</td>\n",
       "      <td>0.486592</td>\n",
       "      <td>0.836071</td>\n",
       "      <td>13.002570</td>\n",
       "      <td>1.102743</td>\n",
       "      <td>0.806057</td>\n",
       "      <td>5.015518e+05</td>\n",
       "      <td>49.693429</td>\n",
       "    </tr>\n",
       "    <tr>\n",
       "      <th>min</th>\n",
       "      <td>1.000000</td>\n",
       "      <td>0.000000</td>\n",
       "      <td>1.000000</td>\n",
       "      <td>0.420000</td>\n",
       "      <td>0.000000</td>\n",
       "      <td>0.000000</td>\n",
       "      <td>0.000000e+00</td>\n",
       "      <td>0.000000</td>\n",
       "    </tr>\n",
       "    <tr>\n",
       "      <th>25%</th>\n",
       "      <td>223.500000</td>\n",
       "      <td>0.000000</td>\n",
       "      <td>2.000000</td>\n",
       "      <td>22.000000</td>\n",
       "      <td>0.000000</td>\n",
       "      <td>0.000000</td>\n",
       "      <td>1.176700e+04</td>\n",
       "      <td>7.910400</td>\n",
       "    </tr>\n",
       "    <tr>\n",
       "      <th>50%</th>\n",
       "      <td>446.000000</td>\n",
       "      <td>0.000000</td>\n",
       "      <td>3.000000</td>\n",
       "      <td>30.000000</td>\n",
       "      <td>0.000000</td>\n",
       "      <td>0.000000</td>\n",
       "      <td>1.101520e+05</td>\n",
       "      <td>14.454200</td>\n",
       "    </tr>\n",
       "    <tr>\n",
       "      <th>75%</th>\n",
       "      <td>668.500000</td>\n",
       "      <td>1.000000</td>\n",
       "      <td>3.000000</td>\n",
       "      <td>35.000000</td>\n",
       "      <td>1.000000</td>\n",
       "      <td>0.000000</td>\n",
       "      <td>3.470615e+05</td>\n",
       "      <td>31.000000</td>\n",
       "    </tr>\n",
       "    <tr>\n",
       "      <th>max</th>\n",
       "      <td>891.000000</td>\n",
       "      <td>1.000000</td>\n",
       "      <td>3.000000</td>\n",
       "      <td>80.000000</td>\n",
       "      <td>8.000000</td>\n",
       "      <td>6.000000</td>\n",
       "      <td>3.101317e+06</td>\n",
       "      <td>512.329200</td>\n",
       "    </tr>\n",
       "  </tbody>\n",
       "</table>\n",
       "</div>"
      ],
      "text/plain": [
       "       PASSENGERID    SURVIVED      PCLASS         AGE       SIBSP  \\\n",
       "count   891.000000  891.000000  891.000000  891.000000  891.000000   \n",
       "mean    446.000000    0.383838    2.308642   29.758889    0.523008   \n",
       "std     257.353842    0.486592    0.836071   13.002570    1.102743   \n",
       "min       1.000000    0.000000    1.000000    0.420000    0.000000   \n",
       "25%     223.500000    0.000000    2.000000   22.000000    0.000000   \n",
       "50%     446.000000    0.000000    3.000000   30.000000    0.000000   \n",
       "75%     668.500000    1.000000    3.000000   35.000000    1.000000   \n",
       "max     891.000000    1.000000    3.000000   80.000000    8.000000   \n",
       "\n",
       "            PARCH        TICKET        FARE  \n",
       "count  891.000000  8.910000e+02  891.000000  \n",
       "mean     0.381594  2.268235e+05   32.204208  \n",
       "std      0.806057  5.015518e+05   49.693429  \n",
       "min      0.000000  0.000000e+00    0.000000  \n",
       "25%      0.000000  1.176700e+04    7.910400  \n",
       "50%      0.000000  1.101520e+05   14.454200  \n",
       "75%      0.000000  3.470615e+05   31.000000  \n",
       "max      6.000000  3.101317e+06  512.329200  "
      ]
     },
     "execution_count": 106,
     "metadata": {},
     "output_type": "execute_result"
    }
   ],
   "source": [
    "# Same statistics gathered earlier (section 2), brought up again just for comparison (below)\n",
    "df6.describe()"
   ]
  },
  {
   "cell_type": "markdown",
   "id": "eba84404",
   "metadata": {
    "heading_collapsed": true,
    "hidden": true
   },
   "source": [
    "## 6.0 - Scaling"
   ]
  },
  {
   "cell_type": "markdown",
   "id": "cf28471f",
   "metadata": {
    "cell_style": "center",
    "hidden": true
   },
   "source": [
    "Some of the algorithms to be used in the modeling step do not require scaling (such as the tree-based), but we will proceed with it anyway due to the remaining ones"
   ]
  },
  {
   "cell_type": "code",
   "execution_count": 107,
   "id": "ab7c7e07",
   "metadata": {
    "ExecuteTime": {
     "end_time": "2023-03-13T18:22:11.957375Z",
     "start_time": "2023-03-13T18:22:11.913528Z"
    },
    "hidden": true
   },
   "outputs": [],
   "source": [
    "for x in ('TICKET', 'FARE', 'AGE', 'SIBSP', 'PARCH'):\n",
    "    rs = RobustScaler()\n",
    "    fit_rs = rs.fit(df6[[x]])\n",
    "    df6[x] = fit_rs.transform(df6[[x]])\n",
    "    with open( f'../parameters/{x}.pkl', 'wb') as f:  # Save for a possible future inverse transform\n",
    "        pickle.dump(fit_rs, f)"
   ]
  },
  {
   "cell_type": "code",
   "execution_count": 108,
   "id": "a6f5161f",
   "metadata": {
    "ExecuteTime": {
     "end_time": "2023-03-13T18:22:12.395240Z",
     "start_time": "2023-03-13T18:22:12.371270Z"
    },
    "hidden": true
   },
   "outputs": [],
   "source": [
    "mm = MinMaxScaler()\n",
    "fit_mm = mm.fit(df6[['PCLASS']])\n",
    "df6['PCLASS'] = fit_mm.transform(df6[['PCLASS']])\n",
    "with open( f'../parameters/PCLASS.pkl', 'wb') as f:  # Save for a possible future inverse transform\n",
    "    pickle.dump(fit_mm, f)"
   ]
  },
  {
   "cell_type": "code",
   "execution_count": 109,
   "id": "91956a68",
   "metadata": {
    "ExecuteTime": {
     "end_time": "2023-03-13T18:22:12.615624Z",
     "start_time": "2023-03-13T18:22:12.562756Z"
    },
    "hidden": true
   },
   "outputs": [
    {
     "data": {
      "text/html": [
       "<div>\n",
       "<style scoped>\n",
       "    .dataframe tbody tr th:only-of-type {\n",
       "        vertical-align: middle;\n",
       "    }\n",
       "\n",
       "    .dataframe tbody tr th {\n",
       "        vertical-align: top;\n",
       "    }\n",
       "\n",
       "    .dataframe thead th {\n",
       "        text-align: right;\n",
       "    }\n",
       "</style>\n",
       "<table border=\"1\" class=\"dataframe\">\n",
       "  <thead>\n",
       "    <tr style=\"text-align: right;\">\n",
       "      <th></th>\n",
       "      <th>PASSENGERID</th>\n",
       "      <th>SURVIVED</th>\n",
       "      <th>PCLASS</th>\n",
       "      <th>AGE</th>\n",
       "      <th>SIBSP</th>\n",
       "      <th>PARCH</th>\n",
       "      <th>TICKET</th>\n",
       "      <th>FARE</th>\n",
       "    </tr>\n",
       "  </thead>\n",
       "  <tbody>\n",
       "    <tr>\n",
       "      <th>count</th>\n",
       "      <td>891.000000</td>\n",
       "      <td>891.000000</td>\n",
       "      <td>891.000000</td>\n",
       "      <td>891.000000</td>\n",
       "      <td>891.000000</td>\n",
       "      <td>891.000000</td>\n",
       "      <td>891.000000</td>\n",
       "      <td>891.000000</td>\n",
       "    </tr>\n",
       "    <tr>\n",
       "      <th>mean</th>\n",
       "      <td>446.000000</td>\n",
       "      <td>0.383838</td>\n",
       "      <td>0.654321</td>\n",
       "      <td>-0.018547</td>\n",
       "      <td>0.523008</td>\n",
       "      <td>0.381594</td>\n",
       "      <td>0.347967</td>\n",
       "      <td>0.768745</td>\n",
       "    </tr>\n",
       "    <tr>\n",
       "      <th>std</th>\n",
       "      <td>257.353842</td>\n",
       "      <td>0.486592</td>\n",
       "      <td>0.418036</td>\n",
       "      <td>1.000198</td>\n",
       "      <td>1.102743</td>\n",
       "      <td>0.806057</td>\n",
       "      <td>1.495855</td>\n",
       "      <td>2.152200</td>\n",
       "    </tr>\n",
       "    <tr>\n",
       "      <th>min</th>\n",
       "      <td>1.000000</td>\n",
       "      <td>0.000000</td>\n",
       "      <td>0.000000</td>\n",
       "      <td>-2.275385</td>\n",
       "      <td>0.000000</td>\n",
       "      <td>0.000000</td>\n",
       "      <td>-0.328523</td>\n",
       "      <td>-0.626005</td>\n",
       "    </tr>\n",
       "    <tr>\n",
       "      <th>25%</th>\n",
       "      <td>223.500000</td>\n",
       "      <td>0.000000</td>\n",
       "      <td>0.500000</td>\n",
       "      <td>-0.615385</td>\n",
       "      <td>0.000000</td>\n",
       "      <td>0.000000</td>\n",
       "      <td>-0.293429</td>\n",
       "      <td>-0.283409</td>\n",
       "    </tr>\n",
       "    <tr>\n",
       "      <th>50%</th>\n",
       "      <td>446.000000</td>\n",
       "      <td>0.000000</td>\n",
       "      <td>1.000000</td>\n",
       "      <td>0.000000</td>\n",
       "      <td>0.000000</td>\n",
       "      <td>0.000000</td>\n",
       "      <td>0.000000</td>\n",
       "      <td>0.000000</td>\n",
       "    </tr>\n",
       "    <tr>\n",
       "      <th>75%</th>\n",
       "      <td>668.500000</td>\n",
       "      <td>1.000000</td>\n",
       "      <td>1.000000</td>\n",
       "      <td>0.384615</td>\n",
       "      <td>1.000000</td>\n",
       "      <td>0.000000</td>\n",
       "      <td>0.706571</td>\n",
       "      <td>0.716591</td>\n",
       "    </tr>\n",
       "    <tr>\n",
       "      <th>max</th>\n",
       "      <td>891.000000</td>\n",
       "      <td>1.000000</td>\n",
       "      <td>1.000000</td>\n",
       "      <td>3.846154</td>\n",
       "      <td>8.000000</td>\n",
       "      <td>6.000000</td>\n",
       "      <td>8.921008</td>\n",
       "      <td>21.562738</td>\n",
       "    </tr>\n",
       "  </tbody>\n",
       "</table>\n",
       "</div>"
      ],
      "text/plain": [
       "       PASSENGERID    SURVIVED      PCLASS         AGE       SIBSP  \\\n",
       "count   891.000000  891.000000  891.000000  891.000000  891.000000   \n",
       "mean    446.000000    0.383838    0.654321   -0.018547    0.523008   \n",
       "std     257.353842    0.486592    0.418036    1.000198    1.102743   \n",
       "min       1.000000    0.000000    0.000000   -2.275385    0.000000   \n",
       "25%     223.500000    0.000000    0.500000   -0.615385    0.000000   \n",
       "50%     446.000000    0.000000    1.000000    0.000000    0.000000   \n",
       "75%     668.500000    1.000000    1.000000    0.384615    1.000000   \n",
       "max     891.000000    1.000000    1.000000    3.846154    8.000000   \n",
       "\n",
       "            PARCH      TICKET        FARE  \n",
       "count  891.000000  891.000000  891.000000  \n",
       "mean     0.381594    0.347967    0.768745  \n",
       "std      0.806057    1.495855    2.152200  \n",
       "min      0.000000   -0.328523   -0.626005  \n",
       "25%      0.000000   -0.293429   -0.283409  \n",
       "50%      0.000000    0.000000    0.000000  \n",
       "75%      0.000000    0.706571    0.716591  \n",
       "max      6.000000    8.921008   21.562738  "
      ]
     },
     "execution_count": 109,
     "metadata": {},
     "output_type": "execute_result"
    }
   ],
   "source": [
    "df6.describe()"
   ]
  },
  {
   "cell_type": "markdown",
   "id": "c951375b",
   "metadata": {
    "heading_collapsed": true,
    "hidden": true
   },
   "source": [
    "## 6.1 - Encoding"
   ]
  },
  {
   "cell_type": "code",
   "execution_count": 110,
   "id": "8512dd44",
   "metadata": {
    "ExecuteTime": {
     "end_time": "2023-03-13T18:22:17.429952Z",
     "start_time": "2023-03-13T18:22:17.408973Z"
    },
    "hidden": true
   },
   "outputs": [],
   "source": [
    "df6 = pd.get_dummies(df6, columns=['SEX', 'EMBARKED'])\n",
    "df6.columns = [x.upper() for x in df6.columns]"
   ]
  },
  {
   "cell_type": "code",
   "execution_count": 115,
   "id": "528751fe",
   "metadata": {
    "ExecuteTime": {
     "end_time": "2023-03-13T18:24:02.924507Z",
     "start_time": "2023-03-13T18:24:02.814121Z"
    },
    "hidden": true
   },
   "outputs": [],
   "source": [
    "# Two different approaches here, choose only one\n",
    "\n",
    "# Cycle 1.1 approach\n",
    "# df6 = HashingEncoder(cols=['CABIN']).fit(df6).transform(df6)\n",
    "# df6.columns = ['CABIN_' + x.split('_')[1]  if x.startswith('col') else x for x in df6.columns]\n",
    "\n",
    "# Cycle 1.2 approach\n",
    "le = LabelEncoder()\n",
    "df6.loc[:, 'CABIN'] = le.fit_transform(np.ravel(df6['CABIN']))"
   ]
  },
  {
   "cell_type": "code",
   "execution_count": 116,
   "id": "4c0ff4c1",
   "metadata": {
    "ExecuteTime": {
     "end_time": "2023-03-13T18:24:04.758328Z",
     "start_time": "2023-03-13T18:24:04.727411Z"
    },
    "hidden": true
   },
   "outputs": [
    {
     "data": {
      "text/html": [
       "<div>\n",
       "<style scoped>\n",
       "    .dataframe tbody tr th:only-of-type {\n",
       "        vertical-align: middle;\n",
       "    }\n",
       "\n",
       "    .dataframe tbody tr th {\n",
       "        vertical-align: top;\n",
       "    }\n",
       "\n",
       "    .dataframe thead th {\n",
       "        text-align: right;\n",
       "    }\n",
       "</style>\n",
       "<table border=\"1\" class=\"dataframe\">\n",
       "  <thead>\n",
       "    <tr style=\"text-align: right;\">\n",
       "      <th></th>\n",
       "      <th>PASSENGERID</th>\n",
       "      <th>SURVIVED</th>\n",
       "      <th>PCLASS</th>\n",
       "      <th>AGE</th>\n",
       "      <th>SIBSP</th>\n",
       "      <th>PARCH</th>\n",
       "      <th>TICKET</th>\n",
       "      <th>FARE</th>\n",
       "      <th>CABIN</th>\n",
       "      <th>SEX_FEMALE</th>\n",
       "      <th>SEX_MALE</th>\n",
       "      <th>EMBARKED_C</th>\n",
       "      <th>EMBARKED_Q</th>\n",
       "      <th>EMBARKED_S</th>\n",
       "    </tr>\n",
       "  </thead>\n",
       "  <tbody>\n",
       "    <tr>\n",
       "      <th>0</th>\n",
       "      <td>1</td>\n",
       "      <td>0</td>\n",
       "      <td>1.0</td>\n",
       "      <td>-0.615385</td>\n",
       "      <td>1.0</td>\n",
       "      <td>0.0</td>\n",
       "      <td>-0.328508</td>\n",
       "      <td>-0.312011</td>\n",
       "      <td>31</td>\n",
       "      <td>0</td>\n",
       "      <td>1</td>\n",
       "      <td>0</td>\n",
       "      <td>0</td>\n",
       "      <td>1</td>\n",
       "    </tr>\n",
       "    <tr>\n",
       "      <th>1</th>\n",
       "      <td>2</td>\n",
       "      <td>1</td>\n",
       "      <td>0.0</td>\n",
       "      <td>0.615385</td>\n",
       "      <td>1.0</td>\n",
       "      <td>0.0</td>\n",
       "      <td>-0.276035</td>\n",
       "      <td>2.461242</td>\n",
       "      <td>81</td>\n",
       "      <td>1</td>\n",
       "      <td>0</td>\n",
       "      <td>1</td>\n",
       "      <td>0</td>\n",
       "      <td>0</td>\n",
       "    </tr>\n",
       "    <tr>\n",
       "      <th>2</th>\n",
       "      <td>3</td>\n",
       "      <td>1</td>\n",
       "      <td>1.0</td>\n",
       "      <td>-0.307692</td>\n",
       "      <td>0.0</td>\n",
       "      <td>0.0</td>\n",
       "      <td>-0.328517</td>\n",
       "      <td>-0.282777</td>\n",
       "      <td>28</td>\n",
       "      <td>1</td>\n",
       "      <td>0</td>\n",
       "      <td>0</td>\n",
       "      <td>0</td>\n",
       "      <td>1</td>\n",
       "    </tr>\n",
       "    <tr>\n",
       "      <th>3</th>\n",
       "      <td>4</td>\n",
       "      <td>1</td>\n",
       "      <td>0.0</td>\n",
       "      <td>0.384615</td>\n",
       "      <td>1.0</td>\n",
       "      <td>0.0</td>\n",
       "      <td>0.010889</td>\n",
       "      <td>1.673732</td>\n",
       "      <td>55</td>\n",
       "      <td>1</td>\n",
       "      <td>0</td>\n",
       "      <td>0</td>\n",
       "      <td>0</td>\n",
       "      <td>1</td>\n",
       "    </tr>\n",
       "    <tr>\n",
       "      <th>4</th>\n",
       "      <td>5</td>\n",
       "      <td>0</td>\n",
       "      <td>1.0</td>\n",
       "      <td>0.384615</td>\n",
       "      <td>0.0</td>\n",
       "      <td>0.0</td>\n",
       "      <td>0.785274</td>\n",
       "      <td>-0.277363</td>\n",
       "      <td>63</td>\n",
       "      <td>0</td>\n",
       "      <td>1</td>\n",
       "      <td>0</td>\n",
       "      <td>0</td>\n",
       "      <td>1</td>\n",
       "    </tr>\n",
       "    <tr>\n",
       "      <th>...</th>\n",
       "      <td>...</td>\n",
       "      <td>...</td>\n",
       "      <td>...</td>\n",
       "      <td>...</td>\n",
       "      <td>...</td>\n",
       "      <td>...</td>\n",
       "      <td>...</td>\n",
       "      <td>...</td>\n",
       "      <td>...</td>\n",
       "      <td>...</td>\n",
       "      <td>...</td>\n",
       "      <td>...</td>\n",
       "      <td>...</td>\n",
       "      <td>...</td>\n",
       "    </tr>\n",
       "    <tr>\n",
       "      <th>886</th>\n",
       "      <td>887</td>\n",
       "      <td>0</td>\n",
       "      <td>0.5</td>\n",
       "      <td>-0.230769</td>\n",
       "      <td>0.0</td>\n",
       "      <td>0.0</td>\n",
       "      <td>0.302373</td>\n",
       "      <td>-0.062981</td>\n",
       "      <td>37</td>\n",
       "      <td>0</td>\n",
       "      <td>1</td>\n",
       "      <td>0</td>\n",
       "      <td>0</td>\n",
       "      <td>1</td>\n",
       "    </tr>\n",
       "    <tr>\n",
       "      <th>887</th>\n",
       "      <td>888</td>\n",
       "      <td>1</td>\n",
       "      <td>0.0</td>\n",
       "      <td>-0.846154</td>\n",
       "      <td>0.0</td>\n",
       "      <td>0.0</td>\n",
       "      <td>0.005670</td>\n",
       "      <td>0.673281</td>\n",
       "      <td>30</td>\n",
       "      <td>1</td>\n",
       "      <td>0</td>\n",
       "      <td>0</td>\n",
       "      <td>0</td>\n",
       "      <td>1</td>\n",
       "    </tr>\n",
       "    <tr>\n",
       "      <th>888</th>\n",
       "      <td>889</td>\n",
       "      <td>0</td>\n",
       "      <td>1.0</td>\n",
       "      <td>0.000000</td>\n",
       "      <td>1.0</td>\n",
       "      <td>2.0</td>\n",
       "      <td>-0.308818</td>\n",
       "      <td>0.389604</td>\n",
       "      <td>81</td>\n",
       "      <td>1</td>\n",
       "      <td>0</td>\n",
       "      <td>0</td>\n",
       "      <td>0</td>\n",
       "      <td>1</td>\n",
       "    </tr>\n",
       "    <tr>\n",
       "      <th>889</th>\n",
       "      <td>890</td>\n",
       "      <td>1</td>\n",
       "      <td>0.0</td>\n",
       "      <td>-0.307692</td>\n",
       "      <td>0.0</td>\n",
       "      <td>0.0</td>\n",
       "      <td>0.003630</td>\n",
       "      <td>0.673281</td>\n",
       "      <td>60</td>\n",
       "      <td>0</td>\n",
       "      <td>1</td>\n",
       "      <td>1</td>\n",
       "      <td>0</td>\n",
       "      <td>0</td>\n",
       "    </tr>\n",
       "    <tr>\n",
       "      <th>890</th>\n",
       "      <td>891</td>\n",
       "      <td>0</td>\n",
       "      <td>1.0</td>\n",
       "      <td>0.153846</td>\n",
       "      <td>0.0</td>\n",
       "      <td>0.0</td>\n",
       "      <td>0.776106</td>\n",
       "      <td>-0.290356</td>\n",
       "      <td>17</td>\n",
       "      <td>0</td>\n",
       "      <td>1</td>\n",
       "      <td>0</td>\n",
       "      <td>1</td>\n",
       "      <td>0</td>\n",
       "    </tr>\n",
       "  </tbody>\n",
       "</table>\n",
       "<p>891 rows × 14 columns</p>\n",
       "</div>"
      ],
      "text/plain": [
       "     PASSENGERID  SURVIVED  PCLASS       AGE  SIBSP  PARCH    TICKET  \\\n",
       "0              1         0     1.0 -0.615385    1.0    0.0 -0.328508   \n",
       "1              2         1     0.0  0.615385    1.0    0.0 -0.276035   \n",
       "2              3         1     1.0 -0.307692    0.0    0.0 -0.328517   \n",
       "3              4         1     0.0  0.384615    1.0    0.0  0.010889   \n",
       "4              5         0     1.0  0.384615    0.0    0.0  0.785274   \n",
       "..           ...       ...     ...       ...    ...    ...       ...   \n",
       "886          887         0     0.5 -0.230769    0.0    0.0  0.302373   \n",
       "887          888         1     0.0 -0.846154    0.0    0.0  0.005670   \n",
       "888          889         0     1.0  0.000000    1.0    2.0 -0.308818   \n",
       "889          890         1     0.0 -0.307692    0.0    0.0  0.003630   \n",
       "890          891         0     1.0  0.153846    0.0    0.0  0.776106   \n",
       "\n",
       "         FARE  CABIN  SEX_FEMALE  SEX_MALE  EMBARKED_C  EMBARKED_Q  EMBARKED_S  \n",
       "0   -0.312011     31           0         1           0           0           1  \n",
       "1    2.461242     81           1         0           1           0           0  \n",
       "2   -0.282777     28           1         0           0           0           1  \n",
       "3    1.673732     55           1         0           0           0           1  \n",
       "4   -0.277363     63           0         1           0           0           1  \n",
       "..        ...    ...         ...       ...         ...         ...         ...  \n",
       "886 -0.062981     37           0         1           0           0           1  \n",
       "887  0.673281     30           1         0           0           0           1  \n",
       "888  0.389604     81           1         0           0           0           1  \n",
       "889  0.673281     60           0         1           1           0           0  \n",
       "890 -0.290356     17           0         1           0           1           0  \n",
       "\n",
       "[891 rows x 14 columns]"
      ]
     },
     "execution_count": 116,
     "metadata": {},
     "output_type": "execute_result"
    }
   ],
   "source": [
    "# Ok, all set to proceed\n",
    "df6"
   ]
  },
  {
   "cell_type": "markdown",
   "id": "86b7d750",
   "metadata": {
    "heading_collapsed": true
   },
   "source": [
    "# 7 - FEATURE SELECTION"
   ]
  },
  {
   "cell_type": "markdown",
   "id": "75822fc9",
   "metadata": {
    "hidden": true
   },
   "source": [
    "No feature shall be dropped for now, since we don't have many in our dataset anyway"
   ]
  },
  {
   "cell_type": "code",
   "execution_count": 117,
   "id": "0bb12a7a",
   "metadata": {
    "ExecuteTime": {
     "end_time": "2023-03-13T18:24:10.312443Z",
     "start_time": "2023-03-13T18:24:10.299442Z"
    },
    "hidden": true
   },
   "outputs": [],
   "source": [
    "df7 = df6.copy()"
   ]
  },
  {
   "cell_type": "code",
   "execution_count": 118,
   "id": "007976c3",
   "metadata": {
    "ExecuteTime": {
     "end_time": "2023-03-13T18:24:10.562841Z",
     "start_time": "2023-03-13T18:24:10.492031Z"
    },
    "hidden": true
   },
   "outputs": [
    {
     "data": {
      "text/html": [
       "<div>\n",
       "<style scoped>\n",
       "    .dataframe tbody tr th:only-of-type {\n",
       "        vertical-align: middle;\n",
       "    }\n",
       "\n",
       "    .dataframe tbody tr th {\n",
       "        vertical-align: top;\n",
       "    }\n",
       "\n",
       "    .dataframe thead th {\n",
       "        text-align: right;\n",
       "    }\n",
       "</style>\n",
       "<table border=\"1\" class=\"dataframe\">\n",
       "  <thead>\n",
       "    <tr style=\"text-align: right;\">\n",
       "      <th></th>\n",
       "      <th>PASSENGERID</th>\n",
       "      <th>SURVIVED</th>\n",
       "      <th>PCLASS</th>\n",
       "      <th>AGE</th>\n",
       "      <th>SIBSP</th>\n",
       "      <th>PARCH</th>\n",
       "      <th>TICKET</th>\n",
       "      <th>FARE</th>\n",
       "      <th>CABIN</th>\n",
       "      <th>SEX_FEMALE</th>\n",
       "      <th>SEX_MALE</th>\n",
       "      <th>EMBARKED_C</th>\n",
       "      <th>EMBARKED_Q</th>\n",
       "      <th>EMBARKED_S</th>\n",
       "    </tr>\n",
       "  </thead>\n",
       "  <tbody>\n",
       "    <tr>\n",
       "      <th>528</th>\n",
       "      <td>529</td>\n",
       "      <td>0</td>\n",
       "      <td>1.0</td>\n",
       "      <td>0.692308</td>\n",
       "      <td>0.0</td>\n",
       "      <td>0.0</td>\n",
       "      <td>8.920946</td>\n",
       "      <td>-0.282777</td>\n",
       "      <td>31</td>\n",
       "      <td>0</td>\n",
       "      <td>1</td>\n",
       "      <td>0</td>\n",
       "      <td>0</td>\n",
       "      <td>1</td>\n",
       "    </tr>\n",
       "  </tbody>\n",
       "</table>\n",
       "</div>"
      ],
      "text/plain": [
       "     PASSENGERID  SURVIVED  PCLASS       AGE  SIBSP  PARCH    TICKET  \\\n",
       "528          529         0     1.0  0.692308    0.0    0.0  8.920946   \n",
       "\n",
       "         FARE  CABIN  SEX_FEMALE  SEX_MALE  EMBARKED_C  EMBARKED_Q  EMBARKED_S  \n",
       "528 -0.282777     31           0         1           0           0           1  "
      ]
     },
     "execution_count": 118,
     "metadata": {},
     "output_type": "execute_result"
    }
   ],
   "source": [
    "df7.sample()"
   ]
  },
  {
   "cell_type": "code",
   "execution_count": 119,
   "id": "f74f533e",
   "metadata": {
    "ExecuteTime": {
     "end_time": "2023-03-13T18:24:10.703814Z",
     "start_time": "2023-03-13T18:24:10.682872Z"
    },
    "hidden": true
   },
   "outputs": [],
   "source": [
    "X_train = df7.loc[:, ~df7.columns.isin(['PASSENGERID', 'SURVIVED'])]\n",
    "y_train = df7.loc[:, 'SURVIVED']"
   ]
  },
  {
   "cell_type": "markdown",
   "id": "9c7585b1",
   "metadata": {
    "hidden": true
   },
   "source": [
    "Obviously, no train/test split is done since the test dataset was already provided (even though without the actual target labels, but aware that it should be used jointly with the Kaggle submission suite)"
   ]
  },
  {
   "cell_type": "markdown",
   "id": "572aaebc",
   "metadata": {
    "heading_collapsed": true
   },
   "source": [
    "# 8 - MODELING"
   ]
  },
  {
   "cell_type": "code",
   "execution_count": 120,
   "id": "8f1998c2",
   "metadata": {
    "ExecuteTime": {
     "end_time": "2023-03-13T18:24:13.411559Z",
     "start_time": "2023-03-13T18:24:13.394605Z"
    },
    "hidden": true
   },
   "outputs": [],
   "source": [
    "def model_boilerplate(X_train, y_train, cycle, score):\n",
    "    gnb1 = GaussianNB()  # no prior estimate\n",
    "    lr2 = LogisticRegression()\n",
    "    knn3 = KNeighborsClassifier()\n",
    "    sg4 = SGDClassifier()\n",
    "    gb5 = GradientBoostingClassifier()\n",
    "\n",
    "    random_states = [1, 42, 99]\n",
    "\n",
    "    params = [\n",
    "        {\n",
    "            'cls': [gnb1],\n",
    "            'var_smoothing': np.logspace(0,-9, num=5).tolist()\n",
    "        },\n",
    "        {\n",
    "            'cls': [lr2],\n",
    "            'random_state': random_states,\n",
    "            'penalty': ['l2'],\n",
    "            'C': [0.2, 0.8, 1.2, 1.9],\n",
    "        },\n",
    "        {\n",
    "            'cls': [knn3],\n",
    "            'n_neighbors': [3, 5, 7],\n",
    "            'weights': ['uniform', 'distance'],\n",
    "            'leaf_size': [10, 30, 50]\n",
    "        },\n",
    "        {\n",
    "            'cls': [sg4],\n",
    "            'random_state': random_states,\n",
    "            'penalty': ['l1', 'l2', 'elasticnet'],\n",
    "            'alpha': [0.0001, 0.1],\n",
    "            'l1_ratio': [0.15, 0.5, 0.85],\n",
    "            'learning_rate': ['optimal', 'adaptive'],\n",
    "            'eta0': [0.001]\n",
    "        },\n",
    "        {\n",
    "            'cls': [gb5],\n",
    "            'random_state': random_states,\n",
    "            'learning_rate': [0.01, 0.1, 0.5],\n",
    "            'min_samples_split': [5, 10],\n",
    "            'min_samples_leaf': [3, 5],\n",
    "            'max_depth': [3, 5, 10],\n",
    "            'max_features': ['sqrt'],\n",
    "            'n_estimators': [100, 200]\n",
    "        }\n",
    "    ]\n",
    "    \n",
    "    pipeline = Pipeline([('cls', gnb1)])\n",
    "    params = [{('cls__' + k if k != 'cls' else k): v for k, v in p.items()} for p in params]\n",
    "\n",
    "    search = GridSearchCV(pipeline, params, scoring=score, cv=10, n_jobs=-1, verbose=False)\n",
    "    search.fit(X_train.values, np.ravel(y_train))\n",
    "    model = search.best_estimator_\n",
    "\n",
    "    with open(f'../model/model_c{cycle}_{score}.pkl', 'wb') as f:\n",
    "        pickle.dump(model, f)\n",
    "\n",
    "    print(f'Accuracy score over train data {accuracy_score(np.ravel(y_train), model.predict(X_train))}')\n",
    "    \n",
    "    return model"
   ]
  },
  {
   "cell_type": "markdown",
   "id": "36266dfe",
   "metadata": {
    "heading_collapsed": true,
    "hidden": true
   },
   "source": [
    "## 8.0 - 1st try - ROC/AUC score"
   ]
  },
  {
   "cell_type": "markdown",
   "id": "e0090c2c",
   "metadata": {
    "cell_style": "center",
    "hidden": true
   },
   "source": [
    "Even though it's not the most proper score for a binary classification problem, it was the 1st try due to using a boilerplate code and only noticing it later"
   ]
  },
  {
   "cell_type": "code",
   "execution_count": 98,
   "id": "2a57d108",
   "metadata": {
    "ExecuteTime": {
     "end_time": "2023-03-13T17:17:41.279268Z",
     "start_time": "2023-03-13T17:11:14.960274Z"
    },
    "hidden": true
   },
   "outputs": [
    {
     "name": "stdout",
     "output_type": "stream",
     "text": [
      "Accuracy score over train data 0.8877665544332211\n"
     ]
    },
    {
     "data": {
      "text/plain": [
       "Pipeline(steps=[('cls',\n",
       "                 GradientBoostingClassifier(learning_rate=0.01, max_depth=5,\n",
       "                                            max_features='sqrt',\n",
       "                                            min_samples_leaf=3,\n",
       "                                            min_samples_split=10,\n",
       "                                            n_estimators=200,\n",
       "                                            random_state=99))])"
      ]
     },
     "execution_count": 98,
     "metadata": {},
     "output_type": "execute_result"
    }
   ],
   "source": [
    "# 1.1 - HashingEncoder\n",
    "# c0 accuracy over train data: 0.8608305274971941\n",
    "model_boilerplate(X_train, y_train, 1.1, 'roc_auc')"
   ]
  },
  {
   "cell_type": "code",
   "execution_count": 121,
   "id": "6ff607a7",
   "metadata": {
    "ExecuteTime": {
     "end_time": "2023-03-13T18:28:00.438393Z",
     "start_time": "2023-03-13T18:24:23.081401Z"
    },
    "hidden": true
   },
   "outputs": [
    {
     "name": "stdout",
     "output_type": "stream",
     "text": [
      "Accuracy score over train data 0.8855218855218855\n"
     ]
    },
    {
     "data": {
      "text/plain": [
       "Pipeline(steps=[('cls',\n",
       "                 GradientBoostingClassifier(learning_rate=0.01, max_depth=5,\n",
       "                                            max_features='sqrt',\n",
       "                                            min_samples_leaf=3,\n",
       "                                            min_samples_split=5,\n",
       "                                            n_estimators=200,\n",
       "                                            random_state=1))])"
      ]
     },
     "execution_count": 121,
     "metadata": {},
     "output_type": "execute_result"
    }
   ],
   "source": [
    "# 1.2 - LabelEncoder\n",
    "# c0 accuracy over train data: 0.8608305274971941\n",
    "model_boilerplate(X_train, y_train, 1.2, 'roc_auc')"
   ]
  },
  {
   "cell_type": "markdown",
   "id": "72fcf07c",
   "metadata": {
    "heading_collapsed": true,
    "hidden": true
   },
   "source": [
    "## 8.1 - 2nd try - accuracy score"
   ]
  },
  {
   "cell_type": "markdown",
   "id": "7466ec9f",
   "metadata": {
    "hidden": true
   },
   "source": [
    "Tried in order to match the score evaluation done at Kaggle submission suite"
   ]
  },
  {
   "cell_type": "code",
   "execution_count": 99,
   "id": "3713f348",
   "metadata": {
    "ExecuteTime": {
     "end_time": "2023-03-13T17:24:56.813435Z",
     "start_time": "2023-03-13T17:17:41.285253Z"
    },
    "hidden": true
   },
   "outputs": [
    {
     "name": "stdout",
     "output_type": "stream",
     "text": [
      "Accuracy score over train data 0.9214365881032548\n"
     ]
    },
    {
     "data": {
      "text/plain": [
       "Pipeline(steps=[('cls',\n",
       "                 GradientBoostingClassifier(learning_rate=0.01, max_depth=10,\n",
       "                                            max_features='sqrt',\n",
       "                                            min_samples_leaf=3,\n",
       "                                            min_samples_split=10,\n",
       "                                            random_state=1))])"
      ]
     },
     "execution_count": 99,
     "metadata": {},
     "output_type": "execute_result"
    }
   ],
   "source": [
    "# 1.1 - HashingEncoder\n",
    "# c0 accuracy over train data: 0.9405162738496072\n",
    "model_boilerplate(X_train, y_train, 1.1, 'accuracy')"
   ]
  },
  {
   "cell_type": "code",
   "execution_count": 122,
   "id": "0fd5127e",
   "metadata": {
    "ExecuteTime": {
     "end_time": "2023-03-13T18:31:33.609422Z",
     "start_time": "2023-03-13T18:28:00.440388Z"
    },
    "hidden": true
   },
   "outputs": [
    {
     "name": "stdout",
     "output_type": "stream",
     "text": [
      "Accuracy score over train data 0.9663299663299664\n"
     ]
    },
    {
     "data": {
      "text/plain": [
       "Pipeline(steps=[('cls',\n",
       "                 GradientBoostingClassifier(learning_rate=0.01, max_depth=10,\n",
       "                                            max_features='sqrt',\n",
       "                                            min_samples_leaf=3,\n",
       "                                            min_samples_split=5,\n",
       "                                            n_estimators=200,\n",
       "                                            random_state=99))])"
      ]
     },
     "execution_count": 122,
     "metadata": {},
     "output_type": "execute_result"
    }
   ],
   "source": [
    "# 1.2 - LabelEncoder\n",
    "# c0 accuracy over train data: 0.9405162738496072\n",
    "model_boilerplate(X_train, y_train, 1.2, 'accuracy')"
   ]
  },
  {
   "cell_type": "markdown",
   "id": "0a0316d8",
   "metadata": {
    "heading_collapsed": true,
    "hidden": true
   },
   "source": [
    "## 8.2 - 3rd try - F1 score"
   ]
  },
  {
   "cell_type": "markdown",
   "id": "b634e967",
   "metadata": {
    "hidden": true
   },
   "source": [
    "Considering the slight imbalance in the target feature"
   ]
  },
  {
   "cell_type": "code",
   "execution_count": 100,
   "id": "b042ecc8",
   "metadata": {
    "ExecuteTime": {
     "end_time": "2023-03-13T17:33:49.036703Z",
     "start_time": "2023-03-13T17:24:56.819470Z"
    },
    "hidden": true
   },
   "outputs": [
    {
     "name": "stdout",
     "output_type": "stream",
     "text": [
      "Accuracy score over train data 0.941638608305275\n"
     ]
    },
    {
     "data": {
      "text/plain": [
       "Pipeline(steps=[('cls',\n",
       "                 GradientBoostingClassifier(max_depth=5, max_features='sqrt',\n",
       "                                            min_samples_leaf=5,\n",
       "                                            min_samples_split=5,\n",
       "                                            random_state=42))])"
      ]
     },
     "execution_count": 100,
     "metadata": {},
     "output_type": "execute_result"
    }
   ],
   "source": [
    "# 1.1 - HashingEncoder\n",
    "# c0 accuracy over train data: 0.9405162738496072\n",
    "model_boilerplate(X_train, y_train, 1.1, 'f1')"
   ]
  },
  {
   "cell_type": "code",
   "execution_count": 123,
   "id": "c41e4bf0",
   "metadata": {
    "ExecuteTime": {
     "end_time": "2023-03-13T18:35:17.360766Z",
     "start_time": "2023-03-13T18:31:33.613375Z"
    },
    "hidden": true
   },
   "outputs": [
    {
     "name": "stdout",
     "output_type": "stream",
     "text": [
      "Accuracy score over train data 1.0\n"
     ]
    },
    {
     "data": {
      "text/plain": [
       "Pipeline(steps=[('cls',\n",
       "                 GradientBoostingClassifier(max_depth=10, max_features='sqrt',\n",
       "                                            min_samples_leaf=3,\n",
       "                                            min_samples_split=10,\n",
       "                                            random_state=99))])"
      ]
     },
     "execution_count": 123,
     "metadata": {},
     "output_type": "execute_result"
    }
   ],
   "source": [
    "# 1.2 - LabelEncoder\n",
    "# c0 accuracy over train data: 0.9405162738496072\n",
    "model_boilerplate(X_train, y_train, 1.2, 'f1')"
   ]
  },
  {
   "cell_type": "markdown",
   "id": "820ff1b1",
   "metadata": {
    "heading_collapsed": true
   },
   "source": [
    "# 9 - PERFORMANCE EVALUATION"
   ]
  },
  {
   "cell_type": "code",
   "execution_count": 101,
   "id": "8e2cef4a",
   "metadata": {
    "ExecuteTime": {
     "end_time": "2023-03-13T17:33:49.161710Z",
     "start_time": "2023-03-13T17:33:49.041728Z"
    },
    "hidden": true
   },
   "outputs": [
    {
     "data": {
      "text/html": [
       "<div>\n",
       "<style scoped>\n",
       "    .dataframe tbody tr th:only-of-type {\n",
       "        vertical-align: middle;\n",
       "    }\n",
       "\n",
       "    .dataframe tbody tr th {\n",
       "        vertical-align: top;\n",
       "    }\n",
       "\n",
       "    .dataframe thead th {\n",
       "        text-align: right;\n",
       "    }\n",
       "</style>\n",
       "<table border=\"1\" class=\"dataframe\">\n",
       "  <thead>\n",
       "    <tr style=\"text-align: right;\">\n",
       "      <th></th>\n",
       "      <th>PassengerId</th>\n",
       "      <th>Pclass</th>\n",
       "      <th>Name</th>\n",
       "      <th>Sex</th>\n",
       "      <th>Age</th>\n",
       "      <th>SibSp</th>\n",
       "      <th>Parch</th>\n",
       "      <th>Ticket</th>\n",
       "      <th>Fare</th>\n",
       "      <th>Cabin</th>\n",
       "      <th>Embarked</th>\n",
       "    </tr>\n",
       "  </thead>\n",
       "  <tbody>\n",
       "    <tr>\n",
       "      <th>0</th>\n",
       "      <td>892</td>\n",
       "      <td>3</td>\n",
       "      <td>Kelly, Mr. James</td>\n",
       "      <td>male</td>\n",
       "      <td>34.5</td>\n",
       "      <td>0</td>\n",
       "      <td>0</td>\n",
       "      <td>330911</td>\n",
       "      <td>7.8292</td>\n",
       "      <td>NaN</td>\n",
       "      <td>Q</td>\n",
       "    </tr>\n",
       "    <tr>\n",
       "      <th>1</th>\n",
       "      <td>893</td>\n",
       "      <td>3</td>\n",
       "      <td>Wilkes, Mrs. James (Ellen Needs)</td>\n",
       "      <td>female</td>\n",
       "      <td>47.0</td>\n",
       "      <td>1</td>\n",
       "      <td>0</td>\n",
       "      <td>363272</td>\n",
       "      <td>7.0000</td>\n",
       "      <td>NaN</td>\n",
       "      <td>S</td>\n",
       "    </tr>\n",
       "    <tr>\n",
       "      <th>2</th>\n",
       "      <td>894</td>\n",
       "      <td>2</td>\n",
       "      <td>Myles, Mr. Thomas Francis</td>\n",
       "      <td>male</td>\n",
       "      <td>62.0</td>\n",
       "      <td>0</td>\n",
       "      <td>0</td>\n",
       "      <td>240276</td>\n",
       "      <td>9.6875</td>\n",
       "      <td>NaN</td>\n",
       "      <td>Q</td>\n",
       "    </tr>\n",
       "    <tr>\n",
       "      <th>3</th>\n",
       "      <td>895</td>\n",
       "      <td>3</td>\n",
       "      <td>Wirz, Mr. Albert</td>\n",
       "      <td>male</td>\n",
       "      <td>27.0</td>\n",
       "      <td>0</td>\n",
       "      <td>0</td>\n",
       "      <td>315154</td>\n",
       "      <td>8.6625</td>\n",
       "      <td>NaN</td>\n",
       "      <td>S</td>\n",
       "    </tr>\n",
       "    <tr>\n",
       "      <th>4</th>\n",
       "      <td>896</td>\n",
       "      <td>3</td>\n",
       "      <td>Hirvonen, Mrs. Alexander (Helga E Lindqvist)</td>\n",
       "      <td>female</td>\n",
       "      <td>22.0</td>\n",
       "      <td>1</td>\n",
       "      <td>1</td>\n",
       "      <td>3101298</td>\n",
       "      <td>12.2875</td>\n",
       "      <td>NaN</td>\n",
       "      <td>S</td>\n",
       "    </tr>\n",
       "    <tr>\n",
       "      <th>...</th>\n",
       "      <td>...</td>\n",
       "      <td>...</td>\n",
       "      <td>...</td>\n",
       "      <td>...</td>\n",
       "      <td>...</td>\n",
       "      <td>...</td>\n",
       "      <td>...</td>\n",
       "      <td>...</td>\n",
       "      <td>...</td>\n",
       "      <td>...</td>\n",
       "      <td>...</td>\n",
       "    </tr>\n",
       "    <tr>\n",
       "      <th>413</th>\n",
       "      <td>1305</td>\n",
       "      <td>3</td>\n",
       "      <td>Spector, Mr. Woolf</td>\n",
       "      <td>male</td>\n",
       "      <td>NaN</td>\n",
       "      <td>0</td>\n",
       "      <td>0</td>\n",
       "      <td>A.5. 3236</td>\n",
       "      <td>8.0500</td>\n",
       "      <td>NaN</td>\n",
       "      <td>S</td>\n",
       "    </tr>\n",
       "    <tr>\n",
       "      <th>414</th>\n",
       "      <td>1306</td>\n",
       "      <td>1</td>\n",
       "      <td>Oliva y Ocana, Dona. Fermina</td>\n",
       "      <td>female</td>\n",
       "      <td>39.0</td>\n",
       "      <td>0</td>\n",
       "      <td>0</td>\n",
       "      <td>PC 17758</td>\n",
       "      <td>108.9000</td>\n",
       "      <td>C105</td>\n",
       "      <td>C</td>\n",
       "    </tr>\n",
       "    <tr>\n",
       "      <th>415</th>\n",
       "      <td>1307</td>\n",
       "      <td>3</td>\n",
       "      <td>Saether, Mr. Simon Sivertsen</td>\n",
       "      <td>male</td>\n",
       "      <td>38.5</td>\n",
       "      <td>0</td>\n",
       "      <td>0</td>\n",
       "      <td>SOTON/O.Q. 3101262</td>\n",
       "      <td>7.2500</td>\n",
       "      <td>NaN</td>\n",
       "      <td>S</td>\n",
       "    </tr>\n",
       "    <tr>\n",
       "      <th>416</th>\n",
       "      <td>1308</td>\n",
       "      <td>3</td>\n",
       "      <td>Ware, Mr. Frederick</td>\n",
       "      <td>male</td>\n",
       "      <td>NaN</td>\n",
       "      <td>0</td>\n",
       "      <td>0</td>\n",
       "      <td>359309</td>\n",
       "      <td>8.0500</td>\n",
       "      <td>NaN</td>\n",
       "      <td>S</td>\n",
       "    </tr>\n",
       "    <tr>\n",
       "      <th>417</th>\n",
       "      <td>1309</td>\n",
       "      <td>3</td>\n",
       "      <td>Peter, Master. Michael J</td>\n",
       "      <td>male</td>\n",
       "      <td>NaN</td>\n",
       "      <td>1</td>\n",
       "      <td>1</td>\n",
       "      <td>2668</td>\n",
       "      <td>22.3583</td>\n",
       "      <td>NaN</td>\n",
       "      <td>C</td>\n",
       "    </tr>\n",
       "  </tbody>\n",
       "</table>\n",
       "<p>418 rows × 11 columns</p>\n",
       "</div>"
      ],
      "text/plain": [
       "     PassengerId  Pclass                                          Name  \\\n",
       "0            892       3                              Kelly, Mr. James   \n",
       "1            893       3              Wilkes, Mrs. James (Ellen Needs)   \n",
       "2            894       2                     Myles, Mr. Thomas Francis   \n",
       "3            895       3                              Wirz, Mr. Albert   \n",
       "4            896       3  Hirvonen, Mrs. Alexander (Helga E Lindqvist)   \n",
       "..           ...     ...                                           ...   \n",
       "413         1305       3                            Spector, Mr. Woolf   \n",
       "414         1306       1                  Oliva y Ocana, Dona. Fermina   \n",
       "415         1307       3                  Saether, Mr. Simon Sivertsen   \n",
       "416         1308       3                           Ware, Mr. Frederick   \n",
       "417         1309       3                      Peter, Master. Michael J   \n",
       "\n",
       "        Sex   Age  SibSp  Parch              Ticket      Fare Cabin Embarked  \n",
       "0      male  34.5      0      0              330911    7.8292   NaN        Q  \n",
       "1    female  47.0      1      0              363272    7.0000   NaN        S  \n",
       "2      male  62.0      0      0              240276    9.6875   NaN        Q  \n",
       "3      male  27.0      0      0              315154    8.6625   NaN        S  \n",
       "4    female  22.0      1      1             3101298   12.2875   NaN        S  \n",
       "..      ...   ...    ...    ...                 ...       ...   ...      ...  \n",
       "413    male   NaN      0      0           A.5. 3236    8.0500   NaN        S  \n",
       "414  female  39.0      0      0            PC 17758  108.9000  C105        C  \n",
       "415    male  38.5      0      0  SOTON/O.Q. 3101262    7.2500   NaN        S  \n",
       "416    male   NaN      0      0              359309    8.0500   NaN        S  \n",
       "417    male   NaN      1      1                2668   22.3583   NaN        C  \n",
       "\n",
       "[418 rows x 11 columns]"
      ]
     },
     "execution_count": 101,
     "metadata": {},
     "output_type": "execute_result"
    }
   ],
   "source": [
    "df_test = pd.read_csv('../data/test.csv')\n",
    "df_test"
   ]
  },
  {
   "cell_type": "markdown",
   "id": "ca4797b6",
   "metadata": {
    "heading_collapsed": true,
    "hidden": true
   },
   "source": [
    "## 9.0 - Replicating training dataset pre-modeling treatments"
   ]
  },
  {
   "cell_type": "code",
   "execution_count": 135,
   "id": "62c67dc7",
   "metadata": {
    "ExecuteTime": {
     "end_time": "2023-03-13T18:38:48.518174Z",
     "start_time": "2023-03-13T18:38:48.514185Z"
    },
    "hidden": true
   },
   "outputs": [],
   "source": [
    "aux = df_test.copy()"
   ]
  },
  {
   "cell_type": "code",
   "execution_count": 136,
   "id": "02c56ef8",
   "metadata": {
    "ExecuteTime": {
     "end_time": "2023-03-13T18:38:48.848606Z",
     "start_time": "2023-03-13T18:38:48.766820Z"
    },
    "hidden": true
   },
   "outputs": [
    {
     "data": {
      "text/html": [
       "<div>\n",
       "<style scoped>\n",
       "    .dataframe tbody tr th:only-of-type {\n",
       "        vertical-align: middle;\n",
       "    }\n",
       "\n",
       "    .dataframe tbody tr th {\n",
       "        vertical-align: top;\n",
       "    }\n",
       "\n",
       "    .dataframe thead th {\n",
       "        text-align: right;\n",
       "    }\n",
       "</style>\n",
       "<table border=\"1\" class=\"dataframe\">\n",
       "  <thead>\n",
       "    <tr style=\"text-align: right;\">\n",
       "      <th></th>\n",
       "      <th>PCLASS</th>\n",
       "      <th>AGE</th>\n",
       "      <th>SIBSP</th>\n",
       "      <th>PARCH</th>\n",
       "      <th>TICKET</th>\n",
       "      <th>FARE</th>\n",
       "      <th>CABIN</th>\n",
       "      <th>SEX_FEMALE</th>\n",
       "      <th>SEX_MALE</th>\n",
       "      <th>EMBARKED_C</th>\n",
       "      <th>EMBARKED_Q</th>\n",
       "      <th>EMBARKED_S</th>\n",
       "    </tr>\n",
       "  </thead>\n",
       "  <tbody>\n",
       "    <tr>\n",
       "      <th>0</th>\n",
       "      <td>1.0</td>\n",
       "      <td>0.352941</td>\n",
       "      <td>0.0</td>\n",
       "      <td>0.0</td>\n",
       "      <td>0.900116</td>\n",
       "      <td>-0.280670</td>\n",
       "      <td>63</td>\n",
       "      <td>0</td>\n",
       "      <td>1</td>\n",
       "      <td>0</td>\n",
       "      <td>1</td>\n",
       "      <td>0</td>\n",
       "    </tr>\n",
       "    <tr>\n",
       "      <th>1</th>\n",
       "      <td>1.0</td>\n",
       "      <td>1.333333</td>\n",
       "      <td>1.0</td>\n",
       "      <td>0.0</td>\n",
       "      <td>0.997929</td>\n",
       "      <td>-0.315800</td>\n",
       "      <td>31</td>\n",
       "      <td>1</td>\n",
       "      <td>0</td>\n",
       "      <td>0</td>\n",
       "      <td>0</td>\n",
       "      <td>1</td>\n",
       "    </tr>\n",
       "    <tr>\n",
       "      <th>2</th>\n",
       "      <td>0.5</td>\n",
       "      <td>2.509804</td>\n",
       "      <td>0.0</td>\n",
       "      <td>0.0</td>\n",
       "      <td>0.626166</td>\n",
       "      <td>-0.201943</td>\n",
       "      <td>51</td>\n",
       "      <td>0</td>\n",
       "      <td>1</td>\n",
       "      <td>0</td>\n",
       "      <td>1</td>\n",
       "      <td>0</td>\n",
       "    </tr>\n",
       "    <tr>\n",
       "      <th>3</th>\n",
       "      <td>1.0</td>\n",
       "      <td>-0.235294</td>\n",
       "      <td>0.0</td>\n",
       "      <td>0.0</td>\n",
       "      <td>0.852489</td>\n",
       "      <td>-0.245367</td>\n",
       "      <td>51</td>\n",
       "      <td>0</td>\n",
       "      <td>1</td>\n",
       "      <td>0</td>\n",
       "      <td>0</td>\n",
       "      <td>1</td>\n",
       "    </tr>\n",
       "    <tr>\n",
       "      <th>4</th>\n",
       "      <td>1.0</td>\n",
       "      <td>-0.627451</td>\n",
       "      <td>1.0</td>\n",
       "      <td>1.0</td>\n",
       "      <td>9.273780</td>\n",
       "      <td>-0.091793</td>\n",
       "      <td>21</td>\n",
       "      <td>1</td>\n",
       "      <td>0</td>\n",
       "      <td>0</td>\n",
       "      <td>0</td>\n",
       "      <td>1</td>\n",
       "    </tr>\n",
       "    <tr>\n",
       "      <th>...</th>\n",
       "      <td>...</td>\n",
       "      <td>...</td>\n",
       "      <td>...</td>\n",
       "      <td>...</td>\n",
       "      <td>...</td>\n",
       "      <td>...</td>\n",
       "      <td>...</td>\n",
       "      <td>...</td>\n",
       "      <td>...</td>\n",
       "      <td>...</td>\n",
       "      <td>...</td>\n",
       "      <td>...</td>\n",
       "    </tr>\n",
       "    <tr>\n",
       "      <th>413</th>\n",
       "      <td>1.0</td>\n",
       "      <td>0.000000</td>\n",
       "      <td>0.0</td>\n",
       "      <td>0.0</td>\n",
       "      <td>-0.100068</td>\n",
       "      <td>-0.271316</td>\n",
       "      <td>7</td>\n",
       "      <td>0</td>\n",
       "      <td>1</td>\n",
       "      <td>0</td>\n",
       "      <td>0</td>\n",
       "      <td>1</td>\n",
       "    </tr>\n",
       "    <tr>\n",
       "      <th>414</th>\n",
       "      <td>0.0</td>\n",
       "      <td>0.705882</td>\n",
       "      <td>0.0</td>\n",
       "      <td>0.0</td>\n",
       "      <td>-0.046408</td>\n",
       "      <td>4.001229</td>\n",
       "      <td>22</td>\n",
       "      <td>1</td>\n",
       "      <td>0</td>\n",
       "      <td>1</td>\n",
       "      <td>0</td>\n",
       "      <td>0</td>\n",
       "    </tr>\n",
       "    <tr>\n",
       "      <th>415</th>\n",
       "      <td>1.0</td>\n",
       "      <td>0.666667</td>\n",
       "      <td>0.0</td>\n",
       "      <td>0.0</td>\n",
       "      <td>9.273671</td>\n",
       "      <td>-0.305208</td>\n",
       "      <td>18</td>\n",
       "      <td>0</td>\n",
       "      <td>1</td>\n",
       "      <td>0</td>\n",
       "      <td>0</td>\n",
       "      <td>1</td>\n",
       "    </tr>\n",
       "    <tr>\n",
       "      <th>416</th>\n",
       "      <td>1.0</td>\n",
       "      <td>0.000000</td>\n",
       "      <td>0.0</td>\n",
       "      <td>0.0</td>\n",
       "      <td>0.985950</td>\n",
       "      <td>-0.271316</td>\n",
       "      <td>38</td>\n",
       "      <td>0</td>\n",
       "      <td>1</td>\n",
       "      <td>0</td>\n",
       "      <td>0</td>\n",
       "      <td>1</td>\n",
       "    </tr>\n",
       "    <tr>\n",
       "      <th>417</th>\n",
       "      <td>1.0</td>\n",
       "      <td>0.000000</td>\n",
       "      <td>1.0</td>\n",
       "      <td>1.0</td>\n",
       "      <td>-0.092019</td>\n",
       "      <td>0.334860</td>\n",
       "      <td>59</td>\n",
       "      <td>0</td>\n",
       "      <td>1</td>\n",
       "      <td>1</td>\n",
       "      <td>0</td>\n",
       "      <td>0</td>\n",
       "    </tr>\n",
       "  </tbody>\n",
       "</table>\n",
       "<p>418 rows × 12 columns</p>\n",
       "</div>"
      ],
      "text/plain": [
       "     PCLASS       AGE  SIBSP  PARCH    TICKET      FARE  CABIN  SEX_FEMALE  \\\n",
       "0       1.0  0.352941    0.0    0.0  0.900116 -0.280670     63           0   \n",
       "1       1.0  1.333333    1.0    0.0  0.997929 -0.315800     31           1   \n",
       "2       0.5  2.509804    0.0    0.0  0.626166 -0.201943     51           0   \n",
       "3       1.0 -0.235294    0.0    0.0  0.852489 -0.245367     51           0   \n",
       "4       1.0 -0.627451    1.0    1.0  9.273780 -0.091793     21           1   \n",
       "..      ...       ...    ...    ...       ...       ...    ...         ...   \n",
       "413     1.0  0.000000    0.0    0.0 -0.100068 -0.271316      7           0   \n",
       "414     0.0  0.705882    0.0    0.0 -0.046408  4.001229     22           1   \n",
       "415     1.0  0.666667    0.0    0.0  9.273671 -0.305208     18           0   \n",
       "416     1.0  0.000000    0.0    0.0  0.985950 -0.271316     38           0   \n",
       "417     1.0  0.000000    1.0    1.0 -0.092019  0.334860     59           0   \n",
       "\n",
       "     SEX_MALE  EMBARKED_C  EMBARKED_Q  EMBARKED_S  \n",
       "0           1           0           1           0  \n",
       "1           0           0           0           1  \n",
       "2           1           0           1           0  \n",
       "3           1           0           0           1  \n",
       "4           0           0           0           1  \n",
       "..        ...         ...         ...         ...  \n",
       "413         1           0           0           1  \n",
       "414         0           1           0           0  \n",
       "415         1           0           0           1  \n",
       "416         1           0           0           1  \n",
       "417         1           1           0           0  \n",
       "\n",
       "[418 rows x 12 columns]"
      ]
     },
     "execution_count": 136,
     "metadata": {},
     "output_type": "execute_result"
    }
   ],
   "source": [
    "# Renaming columns to make work easier\n",
    "aux.columns = [x.upper() for x in aux.columns]\n",
    "\n",
    "# TICKET column handling\n",
    "new_col = []\n",
    "outliers = []\n",
    "for x in aux['TICKET']:\n",
    "    try:\n",
    "        new_col.append(int(x))  # Cast regular cases\n",
    "    except:\n",
    "        if match := re.findall('\\d+', x):  # Gets only numeric part    \n",
    "            new_col.append(int(match[0]))\n",
    "        else:  # Edge cases\n",
    "            outliers.append(x)\n",
    "            new_col.append(0)\n",
    "aux['TICKET'] = new_col\n",
    "\n",
    "# NAs handling\n",
    "# ----------------------------------------------------------------------\n",
    "# New one - 1st cycle\n",
    "known_cabins = aux.loc[~aux['CABIN'].isna(), 'CABIN'].values.tolist()\n",
    "na_count = aux.loc[aux['CABIN'].isna(), 'CABIN'].shape[0]\n",
    "# List-comprehension instead of plugging `na_count` as random.sample()'s 2nd arg allows for repetition\n",
    "new_cabins = [random.sample(known_cabins, 1)[0] for _ in range(na_count)]\n",
    "\n",
    "# Finally filling them in\n",
    "aux.loc[aux['CABIN'].isna(), 'CABIN'] = new_cabins\n",
    "# ----------------------------------------------------------------------\n",
    "# aux = aux.loc[:, ~aux.columns.isin(['CABIN'])]\n",
    "aux['AGE'].fillna(round(aux['AGE'].mean()), inplace=True)\n",
    "aux['EMBARKED'].fillna(mode(aux['EMBARKED'])[0][0], inplace=True)\n",
    "\n",
    "# ----------------------------------------------------------------------\n",
    "# New one, not present in the training dataset\n",
    "aux['FARE'].fillna(aux['FARE'].mean(), inplace=True)\n",
    "# ----------------------------------------------------------------------\n",
    "\n",
    "# Filtering variables\n",
    "aux = aux.loc[:, ~aux.columns.isin(['NAME'])]\n",
    "\n",
    "# Rescaling\n",
    "for x in ('TICKET', 'FARE', 'AGE', 'SIBSP', 'PARCH'):\n",
    "    rs = RobustScaler()\n",
    "    aux[x] = rs.fit_transform(aux[[x]])\n",
    "        \n",
    "mm = MinMaxScaler()\n",
    "aux['PCLASS'] = mm.fit_transform(aux[['PCLASS']])\n",
    "\n",
    "# Encoding\n",
    "aux = pd.get_dummies(aux, columns=['SEX', 'EMBARKED'])\n",
    "aux.columns = [x.upper() for x in aux.columns]\n",
    "# ----------------------------------------------------------------------\n",
    "# New ones - 1st cycle\n",
    "# Two different approaches here, choose only one\n",
    "# 1.1 ----------------------\n",
    "# aux = HashingEncoder(cols=['CABIN']).fit(aux).transform(aux)\n",
    "# aux.columns = ['CABIN_' + x.split('_')[1]  if x.startswith('col') else x for x in aux.columns]\n",
    "# --------------------------\n",
    "# 1.2 ----------------------\n",
    "le = LabelEncoder()\n",
    "aux.loc[:, 'CABIN'] = le.fit_transform(np.ravel(aux['CABIN']))\n",
    "# ----------------------------------------------------------------------\n",
    "\n",
    "X_test = aux.loc[:, ~aux.columns.isin(['PASSENGERID', 'SURVIVED'])]\n",
    "X_test"
   ]
  },
  {
   "cell_type": "markdown",
   "id": "127e2b18",
   "metadata": {
    "heading_collapsed": true,
    "hidden": true
   },
   "source": [
    "## 9.1 - Predicting and evaluating"
   ]
  },
  {
   "cell_type": "markdown",
   "id": "d2dc00ce",
   "metadata": {
    "cell_style": "center",
    "hidden": true
   },
   "source": [
    "The models from section 8 were loaded and tested one by one against the test dataset (+ Kaggle submission), generating the results below"
   ]
  },
  {
   "cell_type": "code",
   "execution_count": 137,
   "id": "bf3bf0cf",
   "metadata": {
    "ExecuteTime": {
     "end_time": "2023-03-13T18:39:19.385893Z",
     "start_time": "2023-03-13T18:39:19.285216Z"
    },
    "hidden": true
   },
   "outputs": [],
   "source": [
    "cycle = 1.2\n",
    "for score in ('roc_auc', 'accuracy', 'f1'):\n",
    "    with open(f'../model/model_c{cycle}_{score}.pkl', 'rb') as f:\n",
    "        model = pickle.load(f)\n",
    "\n",
    "    sub_df = aux.loc[:, ['PASSENGERID']].copy()\n",
    "    sub_df['SURVIVED'] = model.predict(X_test)\n",
    "    sub_df.to_csv(f'../results/results_c{cycle}_{score}.csv', index=False)"
   ]
  },
  {
   "cell_type": "markdown",
   "id": "77051215",
   "metadata": {
    "cell_style": "center",
    "hidden": true
   },
   "source": [
    "After uploading to Kaggle, these were the new results. One by one:\n",
    "\n",
    "- 1.1 - HashingEncoder applied to `CABIN` (erroneously enumerated as c1 below)\n",
    "    - `roc_auc`-scored → still the best, but was a bit downgraded from the first tun\n",
    "    - `accuracy`-scored → also downgraded\n",
    "    - `f1`-scored → this one was upgraded a tiny bit, but not enough to overcome the top-scorer<br><br>\n",
    "    \n",
    "- 1.2 - LabelEncoder\n",
    "    - `roc_auc`-scored → <font color=red>new top-scorer!!</font>\n",
    "    - `accuracy`-scored → better than the analogous c0 and c1.1 scores!\n",
    "    - `f1`-scored → worst for this score until now "
   ]
  },
  {
   "attachments": {
    "image.png": {
     "image/png": "[encoded data removed]"
    }
   },
   "cell_type": "markdown",
   "id": "1460a045",
   "metadata": {
    "hidden": true
   },
   "source": [
    "![image.png](attachment:image.png)"
   ]
  },
  {
   "cell_type": "markdown",
   "id": "dccec8d7",
   "metadata": {
    "hidden": true
   },
   "source": [
    "Former results, just to make the comparison easier"
   ]
  },
  {
   "attachments": {
    "image.png": {
     "image/png": "[encoded data removed]"
    }
   },
   "cell_type": "markdown",
   "id": "d21da569",
   "metadata": {
    "hidden": true
   },
   "source": [
    "![image.png](attachment:image.png)"
   ]
  },
  {
   "cell_type": "markdown",
   "id": "cb75efca",
   "metadata": {
    "heading_collapsed": true
   },
   "source": [
    "# 10 - DEPLOYMENT"
   ]
  },
  {
   "cell_type": "markdown",
   "id": "8f8e7500",
   "metadata": {
    "hidden": true
   },
   "source": [
    "Even though the final score was quite good for a 1st try and a deploy could already be though of, a 2nd cycle (c1) shall still be tested.\n",
    "\n",
    "It will focus its efforts on trying to upgrade points from which more accuracy could possibly be extracted of, such as:\n",
    "\n",
    "- Rescue of dropped features → in this case, `CABIN`, dropped since the beginning due to the high number of NAs\n",
    "- Feature Engineering (tentative)\n",
    "- EDA → extracting more insights that could help in modeling\n",
    "- Data preparation (tentative) → modifying the scaling and encoding methods\n",
    "- Feature Selection (tentative)\n",
    "- Balancing the target feature\n",
    "\n",
    "After this 2nd cycle, if there is enough time, a deploy shall be made with the best model, to make the predictions readily available. "
   ]
  }
 ],
 "metadata": {
  "kernelspec": {
   "display_name": "Python 3",
   "language": "python",
   "name": "python3"
  },
  "language_info": {
   "codemirror_mode": {
    "name": "ipython",
    "version": 3
   },
   "file_extension": ".py",
   "mimetype": "text/x-python",
   "name": "python",
   "nbconvert_exporter": "python",
   "pygments_lexer": "ipython3",
   "version": "3.8.3"
  },
  "varInspector": {
   "cols": {
    "lenName": 16,
    "lenType": 16,
    "lenVar": 40
   },
   "kernels_config": {
    "python": {
     "delete_cmd_postfix": "",
     "delete_cmd_prefix": "del ",
     "library": "var_list.py",
     "varRefreshCmd": "print(var_dic_list())"
    },
    "r": {
     "delete_cmd_postfix": ") ",
     "delete_cmd_prefix": "rm(",
     "library": "var_list.r",
     "varRefreshCmd": "cat(var_dic_list()) "
    }
   },
   "types_to_exclude": [
    "module",
    "function",
    "builtin_function_or_method",
    "instance",
    "_Feature"
   ],
   "window_display": false
  }
 },
 "nbformat": 4,
 "nbformat_minor": 5
}
